{
 "cells": [
  {
   "cell_type": "markdown",
   "metadata": {},
   "source": [
    "# Project: Financial inclusion in 4 african countries\n",
    "- Countries: Uganda, Kenya, Tanzania, Rwanda\n",
    "- Data source: Zindi (link?)"
   ]
  },
  {
   "cell_type": "markdown",
   "metadata": {},
   "source": [
    "## Import python libraries"
   ]
  },
  {
   "cell_type": "code",
   "execution_count": 2,
   "metadata": {},
   "outputs": [],
   "source": [
    "import pandas as pd\n",
    "import numpy as np\n",
    "import warnings\n",
    "import seaborn as sns\n",
    "import matplotlib.pyplot as plt\n",
    "warnings.filterwarnings('ignore')\n",
    "\n",
    "#from sklearn.datasets import make_classification\n",
    "from sklearn.linear_model import LogisticRegression\n",
    "from sklearn.model_selection import train_test_split\n",
    "from sklearn.metrics import classification_report, confusion_matrix,roc_auc_score\n",
    "from sklearn.metrics import accuracy_score, f1_score\n",
    "from sklearn.metrics import f1_score, recall_score\n",
    "\n",
    "from sklearn.model_selection import GridSearchCV, RandomizedSearchCV\n",
    "from sklearn.tree import DecisionTreeClassifier\n",
    "\n",
    "RSEED = 42"
   ]
  },
  {
   "cell_type": "markdown",
   "metadata": {},
   "source": [
    "## Data Inspection"
   ]
  },
  {
   "cell_type": "code",
   "execution_count": 3,
   "metadata": {},
   "outputs": [],
   "source": [
    "#load data from csv file in data folder as dataframe\n",
    "df = pd.read_csv('data/Train.csv')"
   ]
  },
  {
   "cell_type": "code",
   "execution_count": 4,
   "metadata": {},
   "outputs": [
    {
     "data": {
      "text/html": [
       "<div>\n",
       "<style scoped>\n",
       "    .dataframe tbody tr th:only-of-type {\n",
       "        vertical-align: middle;\n",
       "    }\n",
       "\n",
       "    .dataframe tbody tr th {\n",
       "        vertical-align: top;\n",
       "    }\n",
       "\n",
       "    .dataframe thead th {\n",
       "        text-align: right;\n",
       "    }\n",
       "</style>\n",
       "<table border=\"1\" class=\"dataframe\">\n",
       "  <thead>\n",
       "    <tr style=\"text-align: right;\">\n",
       "      <th></th>\n",
       "      <th>country</th>\n",
       "      <th>year</th>\n",
       "      <th>uniqueid</th>\n",
       "      <th>bank_account</th>\n",
       "      <th>location_type</th>\n",
       "      <th>cellphone_access</th>\n",
       "      <th>household_size</th>\n",
       "      <th>age_of_respondent</th>\n",
       "      <th>gender_of_respondent</th>\n",
       "      <th>relationship_with_head</th>\n",
       "      <th>marital_status</th>\n",
       "      <th>education_level</th>\n",
       "      <th>job_type</th>\n",
       "    </tr>\n",
       "  </thead>\n",
       "  <tbody>\n",
       "    <tr>\n",
       "      <th>0</th>\n",
       "      <td>Kenya</td>\n",
       "      <td>2018</td>\n",
       "      <td>uniqueid_1</td>\n",
       "      <td>Yes</td>\n",
       "      <td>Rural</td>\n",
       "      <td>Yes</td>\n",
       "      <td>3</td>\n",
       "      <td>24</td>\n",
       "      <td>Female</td>\n",
       "      <td>Spouse</td>\n",
       "      <td>Married/Living together</td>\n",
       "      <td>Secondary education</td>\n",
       "      <td>Self employed</td>\n",
       "    </tr>\n",
       "    <tr>\n",
       "      <th>1</th>\n",
       "      <td>Kenya</td>\n",
       "      <td>2018</td>\n",
       "      <td>uniqueid_2</td>\n",
       "      <td>No</td>\n",
       "      <td>Rural</td>\n",
       "      <td>No</td>\n",
       "      <td>5</td>\n",
       "      <td>70</td>\n",
       "      <td>Female</td>\n",
       "      <td>Head of Household</td>\n",
       "      <td>Widowed</td>\n",
       "      <td>No formal education</td>\n",
       "      <td>Government Dependent</td>\n",
       "    </tr>\n",
       "    <tr>\n",
       "      <th>2</th>\n",
       "      <td>Kenya</td>\n",
       "      <td>2018</td>\n",
       "      <td>uniqueid_3</td>\n",
       "      <td>Yes</td>\n",
       "      <td>Urban</td>\n",
       "      <td>Yes</td>\n",
       "      <td>5</td>\n",
       "      <td>26</td>\n",
       "      <td>Male</td>\n",
       "      <td>Other relative</td>\n",
       "      <td>Single/Never Married</td>\n",
       "      <td>Vocational/Specialised training</td>\n",
       "      <td>Self employed</td>\n",
       "    </tr>\n",
       "    <tr>\n",
       "      <th>3</th>\n",
       "      <td>Kenya</td>\n",
       "      <td>2018</td>\n",
       "      <td>uniqueid_4</td>\n",
       "      <td>No</td>\n",
       "      <td>Rural</td>\n",
       "      <td>Yes</td>\n",
       "      <td>5</td>\n",
       "      <td>34</td>\n",
       "      <td>Female</td>\n",
       "      <td>Head of Household</td>\n",
       "      <td>Married/Living together</td>\n",
       "      <td>Primary education</td>\n",
       "      <td>Formally employed Private</td>\n",
       "    </tr>\n",
       "    <tr>\n",
       "      <th>4</th>\n",
       "      <td>Kenya</td>\n",
       "      <td>2018</td>\n",
       "      <td>uniqueid_5</td>\n",
       "      <td>No</td>\n",
       "      <td>Urban</td>\n",
       "      <td>No</td>\n",
       "      <td>8</td>\n",
       "      <td>26</td>\n",
       "      <td>Male</td>\n",
       "      <td>Child</td>\n",
       "      <td>Single/Never Married</td>\n",
       "      <td>Primary education</td>\n",
       "      <td>Informally employed</td>\n",
       "    </tr>\n",
       "  </tbody>\n",
       "</table>\n",
       "</div>"
      ],
      "text/plain": [
       "  country  year    uniqueid bank_account location_type cellphone_access  \\\n",
       "0   Kenya  2018  uniqueid_1          Yes         Rural              Yes   \n",
       "1   Kenya  2018  uniqueid_2           No         Rural               No   \n",
       "2   Kenya  2018  uniqueid_3          Yes         Urban              Yes   \n",
       "3   Kenya  2018  uniqueid_4           No         Rural              Yes   \n",
       "4   Kenya  2018  uniqueid_5           No         Urban               No   \n",
       "\n",
       "   household_size  age_of_respondent gender_of_respondent  \\\n",
       "0               3                 24               Female   \n",
       "1               5                 70               Female   \n",
       "2               5                 26                 Male   \n",
       "3               5                 34               Female   \n",
       "4               8                 26                 Male   \n",
       "\n",
       "  relationship_with_head           marital_status  \\\n",
       "0                 Spouse  Married/Living together   \n",
       "1      Head of Household                  Widowed   \n",
       "2         Other relative     Single/Never Married   \n",
       "3      Head of Household  Married/Living together   \n",
       "4                  Child     Single/Never Married   \n",
       "\n",
       "                   education_level                   job_type  \n",
       "0              Secondary education              Self employed  \n",
       "1              No formal education       Government Dependent  \n",
       "2  Vocational/Specialised training              Self employed  \n",
       "3                Primary education  Formally employed Private  \n",
       "4                Primary education        Informally employed  "
      ]
     },
     "execution_count": 4,
     "metadata": {},
     "output_type": "execute_result"
    }
   ],
   "source": [
    "# inspect the head of the dataframe\n",
    "df.head()"
   ]
  },
  {
   "cell_type": "code",
   "execution_count": 5,
   "metadata": {},
   "outputs": [
    {
     "data": {
      "text/html": [
       "<div>\n",
       "<style scoped>\n",
       "    .dataframe tbody tr th:only-of-type {\n",
       "        vertical-align: middle;\n",
       "    }\n",
       "\n",
       "    .dataframe tbody tr th {\n",
       "        vertical-align: top;\n",
       "    }\n",
       "\n",
       "    .dataframe thead th {\n",
       "        text-align: right;\n",
       "    }\n",
       "</style>\n",
       "<table border=\"1\" class=\"dataframe\">\n",
       "  <thead>\n",
       "    <tr style=\"text-align: right;\">\n",
       "      <th></th>\n",
       "      <th>year</th>\n",
       "      <th>household_size</th>\n",
       "      <th>age_of_respondent</th>\n",
       "    </tr>\n",
       "  </thead>\n",
       "  <tbody>\n",
       "    <tr>\n",
       "      <th>count</th>\n",
       "      <td>23524.000000</td>\n",
       "      <td>23524.000000</td>\n",
       "      <td>23524.000000</td>\n",
       "    </tr>\n",
       "    <tr>\n",
       "      <th>mean</th>\n",
       "      <td>2016.975939</td>\n",
       "      <td>3.797483</td>\n",
       "      <td>38.805220</td>\n",
       "    </tr>\n",
       "    <tr>\n",
       "      <th>std</th>\n",
       "      <td>0.847371</td>\n",
       "      <td>2.227613</td>\n",
       "      <td>16.520569</td>\n",
       "    </tr>\n",
       "    <tr>\n",
       "      <th>min</th>\n",
       "      <td>2016.000000</td>\n",
       "      <td>1.000000</td>\n",
       "      <td>16.000000</td>\n",
       "    </tr>\n",
       "    <tr>\n",
       "      <th>25%</th>\n",
       "      <td>2016.000000</td>\n",
       "      <td>2.000000</td>\n",
       "      <td>26.000000</td>\n",
       "    </tr>\n",
       "    <tr>\n",
       "      <th>50%</th>\n",
       "      <td>2017.000000</td>\n",
       "      <td>3.000000</td>\n",
       "      <td>35.000000</td>\n",
       "    </tr>\n",
       "    <tr>\n",
       "      <th>75%</th>\n",
       "      <td>2018.000000</td>\n",
       "      <td>5.000000</td>\n",
       "      <td>49.000000</td>\n",
       "    </tr>\n",
       "    <tr>\n",
       "      <th>max</th>\n",
       "      <td>2018.000000</td>\n",
       "      <td>21.000000</td>\n",
       "      <td>100.000000</td>\n",
       "    </tr>\n",
       "  </tbody>\n",
       "</table>\n",
       "</div>"
      ],
      "text/plain": [
       "               year  household_size  age_of_respondent\n",
       "count  23524.000000    23524.000000       23524.000000\n",
       "mean    2016.975939        3.797483          38.805220\n",
       "std        0.847371        2.227613          16.520569\n",
       "min     2016.000000        1.000000          16.000000\n",
       "25%     2016.000000        2.000000          26.000000\n",
       "50%     2017.000000        3.000000          35.000000\n",
       "75%     2018.000000        5.000000          49.000000\n",
       "max     2018.000000       21.000000         100.000000"
      ]
     },
     "execution_count": 5,
     "metadata": {},
     "output_type": "execute_result"
    }
   ],
   "source": [
    "# make statistical analysis on dataframe\n",
    "df.describe()"
   ]
  },
  {
   "cell_type": "code",
   "execution_count": 6,
   "metadata": {},
   "outputs": [
    {
     "name": "stdout",
     "output_type": "stream",
     "text": [
      "<class 'pandas.core.frame.DataFrame'>\n",
      "RangeIndex: 23524 entries, 0 to 23523\n",
      "Data columns (total 13 columns):\n",
      " #   Column                  Non-Null Count  Dtype \n",
      "---  ------                  --------------  ----- \n",
      " 0   country                 23524 non-null  object\n",
      " 1   year                    23524 non-null  int64 \n",
      " 2   uniqueid                23524 non-null  object\n",
      " 3   bank_account            23524 non-null  object\n",
      " 4   location_type           23524 non-null  object\n",
      " 5   cellphone_access        23524 non-null  object\n",
      " 6   household_size          23524 non-null  int64 \n",
      " 7   age_of_respondent       23524 non-null  int64 \n",
      " 8   gender_of_respondent    23524 non-null  object\n",
      " 9   relationship_with_head  23524 non-null  object\n",
      " 10  marital_status          23524 non-null  object\n",
      " 11  education_level         23524 non-null  object\n",
      " 12  job_type                23524 non-null  object\n",
      "dtypes: int64(3), object(10)\n",
      "memory usage: 2.3+ MB\n"
     ]
    }
   ],
   "source": [
    "# get information about column data type, completeness of column data, size of dataframe\n",
    "df.info()"
   ]
  },
  {
   "cell_type": "code",
   "execution_count": 7,
   "metadata": {},
   "outputs": [
    {
     "name": "stdout",
     "output_type": "stream",
     "text": [
      "missing values: country                   0\n",
      "year                      0\n",
      "uniqueid                  0\n",
      "bank_account              0\n",
      "location_type             0\n",
      "cellphone_access          0\n",
      "household_size            0\n",
      "age_of_respondent         0\n",
      "gender_of_respondent      0\n",
      "relationship_with_head    0\n",
      "marital_status            0\n",
      "education_level           0\n",
      "job_type                  0\n",
      "dtype: int64\n"
     ]
    }
   ],
   "source": [
    "# Check for missing values\n",
    "print('missing values:', df.isnull().sum())\n"
   ]
  },
  {
   "cell_type": "markdown",
   "metadata": {},
   "source": [
    "We don't have missing data in our dataset."
   ]
  },
  {
   "cell_type": "code",
   "execution_count": 8,
   "metadata": {},
   "outputs": [
    {
     "data": {
      "text/plain": [
       "<AxesSubplot:xlabel='bank_account', ylabel='count'>"
      ]
     },
     "execution_count": 8,
     "metadata": {},
     "output_type": "execute_result"
    },
    {
     "data": {
      "image/png": "[encoded data removed]",
      "text/plain": [
       "<Figure size 432x288 with 1 Axes>"
      ]
     },
     "metadata": {
      "needs_background": "light"
     },
     "output_type": "display_data"
    }
   ],
   "source": [
    "# check if target (if someone has a bank account or not) is balanced\n",
    "sns.countplot(data=df,x='bank_account',palette=\"YlGnBu\")"
   ]
  },
  {
   "cell_type": "code",
   "execution_count": 9,
   "metadata": {},
   "outputs": [
    {
     "data": {
      "text/plain": [
       "<seaborn.axisgrid.PairGrid at 0x14feb5e50>"
      ]
     },
     "execution_count": 9,
     "metadata": {},
     "output_type": "execute_result"
    },
    {
     "data": {
      "image/png": "[encoded data removed]",
      "text/plain": [
       "<Figure size 617.25x540 with 12 Axes>"
      ]
     },
     "metadata": {
      "needs_background": "light"
     },
     "output_type": "display_data"
    }
   ],
   "source": [
    "# plot pairwise scatter plots for each numeric or categoric feature (features with string categories will not be plotted)\n",
    "sns.pairplot(df, hue='bank_account')"
   ]
  },
  {
   "cell_type": "code",
   "execution_count": 10,
   "metadata": {},
   "outputs": [
    {
     "data": {
      "text/plain": [
       "2016    8735\n",
       "2018    8169\n",
       "2017    6620\n",
       "Name: year, dtype: int64"
      ]
     },
     "execution_count": 10,
     "metadata": {},
     "output_type": "execute_result"
    }
   ],
   "source": [
    "# check balance of data per year\n",
    "df.year.value_counts()"
   ]
  },
  {
   "cell_type": "code",
   "execution_count": 11,
   "metadata": {},
   "outputs": [
    {
     "data": {
      "text/plain": [
       "Rwanda      8735\n",
       "Tanzania    6620\n",
       "Kenya       6068\n",
       "Uganda      2101\n",
       "Name: country, dtype: int64"
      ]
     },
     "execution_count": 11,
     "metadata": {},
     "output_type": "execute_result"
    }
   ],
   "source": [
    "# check balance of data per country\n",
    "df.country.value_counts()"
   ]
  },
  {
   "cell_type": "code",
   "execution_count": 14,
   "metadata": {},
   "outputs": [
    {
     "name": "stdout",
     "output_type": "stream",
     "text": [
      "Percentage of people with bank account: 14.08 %\n"
     ]
    }
   ],
   "source": [
    "# calculate percentage of persons with bank account\n",
    "bank = df.bank_account.value_counts()\n",
    "per_bank = (bank[1])/(bank[0]+bank[1])\n",
    "print(f'Percentage of people with bank account:' ,round(per_bank*100,2),'%')"
   ]
  },
  {
   "cell_type": "code",
   "execution_count": 15,
   "metadata": {},
   "outputs": [
    {
     "data": {
      "text/plain": [
       "Rural    14343\n",
       "Urban     9181\n",
       "Name: location_type, dtype: int64"
      ]
     },
     "execution_count": 15,
     "metadata": {},
     "output_type": "execute_result"
    }
   ],
   "source": [
    "# count individuals in rural and urban location\n",
    "df.location_type.value_counts()"
   ]
  },
  {
   "cell_type": "code",
   "execution_count": 16,
   "metadata": {},
   "outputs": [
    {
     "data": {
      "text/plain": [
       "Yes    17454\n",
       "No      6070\n",
       "Name: cellphone_access, dtype: int64"
      ]
     },
     "execution_count": 16,
     "metadata": {},
     "output_type": "execute_result"
    }
   ],
   "source": [
    "df.cellphone_access.value_counts()"
   ]
  },
  {
   "cell_type": "code",
   "execution_count": 17,
   "metadata": {},
   "outputs": [
    {
     "data": {
      "text/plain": [
       "Self employed                   6437\n",
       "Informally employed             5597\n",
       "Farming and Fishing             5441\n",
       "Remittance Dependent            2527\n",
       "Other Income                    1080\n",
       "Formally employed Private       1055\n",
       "No Income                        627\n",
       "Formally employed Government     387\n",
       "Government Dependent             247\n",
       "Dont Know/Refuse to answer       126\n",
       "Name: job_type, dtype: int64"
      ]
     },
     "execution_count": 17,
     "metadata": {},
     "output_type": "execute_result"
    }
   ],
   "source": [
    "df.job_type.value_counts()"
   ]
  },
  {
   "cell_type": "code",
   "execution_count": 68,
   "metadata": {},
   "outputs": [
    {
     "data": {
      "text/plain": [
       "Self employed                   0.27\n",
       "Informally employed             0.24\n",
       "Farming and Fishing             0.23\n",
       "Remittance Dependent            0.11\n",
       "Other Income                    0.05\n",
       "Formally employed Private       0.04\n",
       "No Income                       0.03\n",
       "Formally employed Government    0.02\n",
       "Government Dependent            0.01\n",
       "Dont Know/Refuse to answer      0.01\n",
       "Name: job_type, dtype: float64"
      ]
     },
     "execution_count": 68,
     "metadata": {},
     "output_type": "execute_result"
    }
   ],
   "source": [
    "#Percentatge of job_type on total data set\n",
    "per = df.job_type.value_counts()\n",
    "per = round(per/23524,2)\n",
    "per"
   ]
  },
  {
   "cell_type": "code",
   "execution_count": 18,
   "metadata": {},
   "outputs": [
    {
     "data": {
      "text/plain": [
       "<matplotlib.legend.Legend at 0x16c44df10>"
      ]
     },
     "execution_count": 18,
     "metadata": {},
     "output_type": "execute_result"
    },
    {
     "data": {
      "image/png": "[encoded data removed]",
      "text/plain": [
       "<Figure size 360x360 with 1 Axes>"
      ]
     },
     "metadata": {
      "needs_background": "light"
     },
     "output_type": "display_data"
    }
   ],
   "source": [
    "# Create a dataframe with the counts by job type and user/non user\n",
    "gender_counts_df = df.groupby([\"gender_of_respondent\", \"bank_account\"])['gender_of_respondent'].count().unstack()\n",
    "gender_user_percents_df = gender_counts_df.T.div(gender_counts_df.T.sum()).T\n",
    "fig, ax = plt.subplots()\n",
    "\n",
    "gender_user_percents_df.plot(kind=\"bar\", stacked=True, color=[\"steelblue\", \"lawngreen\"],figsize=(5,5), ax=ax)\n",
    "\n",
    "ax.set_xlabel(\"Gender\")\n",
    "ax.set_xticklabels([\"Female\", \"Male\"], rotation=0)\n",
    "ax.set_ylabel(\"Proportion\")\n",
    "\n",
    "ax.legend(title=\"bank account\",loc='center')"
   ]
  },
  {
   "cell_type": "code",
   "execution_count": 60,
   "metadata": {},
   "outputs": [
    {
     "data": {
      "text/plain": [
       "<matplotlib.legend.Legend at 0x296ad28e0>"
      ]
     },
     "execution_count": 60,
     "metadata": {},
     "output_type": "execute_result"
    },
    {
     "data": {
      "image/png": "[encoded data removed]",
      "text/plain": [
       "<Figure size 360x360 with 1 Axes>"
      ]
     },
     "metadata": {
      "needs_background": "light"
     },
     "output_type": "display_data"
    }
   ],
   "source": [
    "# Create a dataframe with the counts by job type and user/non user\n",
    "loc_counts_df = df.groupby([\"location_type\", \"bank_account\"])['location_type'].count().unstack()\n",
    "loc_user_percents_df = loc_counts_df.T.div(loc_counts_df.T.sum()).T\n",
    "fig, ax = plt.subplots()\n",
    "\n",
    "loc_user_percents_df.plot(kind=\"bar\", stacked=True, color=[\"steelblue\", \"lawngreen\"],figsize=(5,5), ax=ax)\n",
    "\n",
    "ax.set_xlabel(\"Location\")\n",
    "ax.set_xticklabels([\"Rural\", \"Urban\"], rotation=0)\n",
    "ax.set_ylabel(\"Proportion\")\n",
    "\n",
    "ax.legend(title=\"Bank account\",loc='center')"
   ]
  },
  {
   "cell_type": "code",
   "execution_count": 62,
   "metadata": {},
   "outputs": [
    {
     "data": {
      "text/plain": [
       "<matplotlib.legend.Legend at 0x296c01cd0>"
      ]
     },
     "execution_count": 62,
     "metadata": {},
     "output_type": "execute_result"
    },
    {
     "data": {
      "image/png": "[encoded data removed]",
      "text/plain": [
       "<Figure size 360x360 with 1 Axes>"
      ]
     },
     "metadata": {
      "needs_background": "light"
     },
     "output_type": "display_data"
    }
   ],
   "source": [
    "# Create a dataframe with the counts by job type and user/non user\n",
    "cell_counts_df = df.groupby([\"cellphone_access\", \"bank_account\"])['cellphone_access'].count().unstack()\n",
    "cell_user_percents_df = cell_counts_df.T.div(cell_counts_df.T.sum()).T\n",
    "fig, ax = plt.subplots()\n",
    "\n",
    "cell_user_percents_df.plot(kind=\"bar\", stacked=True, color=[\"steelblue\", \"lawngreen\"],figsize=(5,5), ax=ax)\n",
    "\n",
    "ax.set_xlabel(\"Cellphone\")\n",
    "ax.set_xticklabels([\"No\", \"Yes\"], rotation=0)\n",
    "ax.set_ylabel(\"Proportion\")\n",
    "\n",
    "ax.legend(title=\"Bank account\",loc='center')"
   ]
  },
  {
   "cell_type": "code",
   "execution_count": 19,
   "metadata": {},
   "outputs": [
    {
     "data": {
      "text/html": [
       "<div>\n",
       "<style scoped>\n",
       "    .dataframe tbody tr th:only-of-type {\n",
       "        vertical-align: middle;\n",
       "    }\n",
       "\n",
       "    .dataframe tbody tr th {\n",
       "        vertical-align: top;\n",
       "    }\n",
       "\n",
       "    .dataframe thead th {\n",
       "        text-align: right;\n",
       "    }\n",
       "</style>\n",
       "<table border=\"1\" class=\"dataframe\">\n",
       "  <thead>\n",
       "    <tr style=\"text-align: right;\">\n",
       "      <th>bank_account</th>\n",
       "      <th>No</th>\n",
       "      <th>Yes</th>\n",
       "    </tr>\n",
       "    <tr>\n",
       "      <th>job_type</th>\n",
       "      <th></th>\n",
       "      <th></th>\n",
       "    </tr>\n",
       "  </thead>\n",
       "  <tbody>\n",
       "    <tr>\n",
       "      <th>No Income</th>\n",
       "      <td>614</td>\n",
       "      <td>13</td>\n",
       "    </tr>\n",
       "    <tr>\n",
       "      <th>Dont Know/Refuse to answer</th>\n",
       "      <td>112</td>\n",
       "      <td>14</td>\n",
       "    </tr>\n",
       "    <tr>\n",
       "      <th>Government Dependent</th>\n",
       "      <td>197</td>\n",
       "      <td>50</td>\n",
       "    </tr>\n",
       "    <tr>\n",
       "      <th>Other Income</th>\n",
       "      <td>884</td>\n",
       "      <td>196</td>\n",
       "    </tr>\n",
       "    <tr>\n",
       "      <th>Remittance Dependent</th>\n",
       "      <td>2287</td>\n",
       "      <td>240</td>\n",
       "    </tr>\n",
       "    <tr>\n",
       "      <th>Formally employed Government</th>\n",
       "      <td>87</td>\n",
       "      <td>300</td>\n",
       "    </tr>\n",
       "    <tr>\n",
       "      <th>Informally employed</th>\n",
       "      <td>5152</td>\n",
       "      <td>445</td>\n",
       "    </tr>\n",
       "    <tr>\n",
       "      <th>Formally employed Private</th>\n",
       "      <td>484</td>\n",
       "      <td>571</td>\n",
       "    </tr>\n",
       "    <tr>\n",
       "      <th>Farming and Fishing</th>\n",
       "      <td>4806</td>\n",
       "      <td>635</td>\n",
       "    </tr>\n",
       "    <tr>\n",
       "      <th>Self employed</th>\n",
       "      <td>5589</td>\n",
       "      <td>848</td>\n",
       "    </tr>\n",
       "  </tbody>\n",
       "</table>\n",
       "</div>"
      ],
      "text/plain": [
       "bank_account                    No  Yes\n",
       "job_type                               \n",
       "No Income                      614   13\n",
       "Dont Know/Refuse to answer     112   14\n",
       "Government Dependent           197   50\n",
       "Other Income                   884  196\n",
       "Remittance Dependent          2287  240\n",
       "Formally employed Government    87  300\n",
       "Informally employed           5152  445\n",
       "Formally employed Private      484  571\n",
       "Farming and Fishing           4806  635\n",
       "Self employed                 5589  848"
      ]
     },
     "execution_count": 19,
     "metadata": {},
     "output_type": "execute_result"
    }
   ],
   "source": [
    "# Create a dataframe with the counts by job type and user/non user\n",
    "job_counts_df = df.groupby([\"job_type\", \"bank_account\"])[\"job_type\"].count().unstack().sort_values('Yes')\n",
    "job_counts_df"
   ]
  },
  {
   "cell_type": "code",
   "execution_count": 59,
   "metadata": {},
   "outputs": [
    {
     "data": {
      "text/plain": [
       "<matplotlib.legend.Legend at 0x296b3f520>"
      ]
     },
     "execution_count": 59,
     "metadata": {},
     "output_type": "execute_result"
    },
    {
     "data": {
      "image/png": "[encoded data removed]",
      "text/plain": [
       "<Figure size 1080x360 with 1 Axes>"
      ]
     },
     "metadata": {
      "needs_background": "light"
     },
     "output_type": "display_data"
    }
   ],
   "source": [
    "# Use the same counts df, adding up to 1\n",
    "from numpy import sort\n",
    "\n",
    "\n",
    "job_user_percents_df = job_counts_df.T.div(job_counts_df.T.sum()).T\n",
    "#\n",
    "fig, ax = plt.subplots()\n",
    "\n",
    "job_user_percents_df.plot(kind=\"bar\", stacked=True,color=[\"darkcyan\", \"plum\"], figsize=(15,5), ax=ax)\n",
    "\n",
    "ax.set_xlabel(\"job_type\")\n",
    "ax.set_xticklabels([\"Dont Know/Refuse to answer\", \"Farming and Fishing\", \"Formally employed Government\",\t\n",
    "    \"Formally employed Private\", \"Government Dependent\", \"Informally employed\", \"No Income\", \"Other Income\",\n",
    "    \"Remittance Dependent\", \"Self employed\"], rotation=90)\n",
    "ax.set_ylabel(\"Proportion\")\n",
    "\n",
    "ax.legend(loc='center right')"
   ]
  },
  {
   "cell_type": "code",
   "execution_count": 21,
   "metadata": {},
   "outputs": [
    {
     "data": {
      "image/png": "[encoded data removed]",
      "text/plain": [
       "<Figure size 437.25x360 with 1 Axes>"
      ]
     },
     "metadata": {
      "needs_background": "light"
     },
     "output_type": "display_data"
    }
   ],
   "source": [
    "#\n",
    "x,y = 'job_type', 'bank_account'\n",
    "\n",
    "df1 = df.groupby(x)[y].value_counts(normalize=True)\n",
    "df1 = df1.mul(100)\n",
    "df1 = df1.rename('percent').reset_index()\n",
    "\n",
    "g = sns.catplot(x=x,y='percent',hue=y,kind='bar',data=df1)\n",
    "g.ax.set_ylim(0,100)\n",
    "plt.xticks(rotation=90);\n",
    "for p in g.ax.patches:\n",
    "    txt = str(p.get_height().round(2)) + '%'\n",
    "    txt_x = p.get_x() \n",
    "    txt_y = p.get_height()\n",
    "    g.ax.text(txt_x,txt_y,txt)"
   ]
  },
  {
   "cell_type": "code",
   "execution_count": 22,
   "metadata": {},
   "outputs": [
    {
     "data": {
      "text/html": [
       "<div>\n",
       "<style scoped>\n",
       "    .dataframe tbody tr th:only-of-type {\n",
       "        vertical-align: middle;\n",
       "    }\n",
       "\n",
       "    .dataframe tbody tr th {\n",
       "        vertical-align: top;\n",
       "    }\n",
       "\n",
       "    .dataframe thead th {\n",
       "        text-align: right;\n",
       "    }\n",
       "</style>\n",
       "<table border=\"1\" class=\"dataframe\">\n",
       "  <thead>\n",
       "    <tr style=\"text-align: right;\">\n",
       "      <th>bank_account</th>\n",
       "      <th>No</th>\n",
       "      <th>Yes</th>\n",
       "    </tr>\n",
       "    <tr>\n",
       "      <th>country</th>\n",
       "      <th></th>\n",
       "      <th></th>\n",
       "    </tr>\n",
       "  </thead>\n",
       "  <tbody>\n",
       "    <tr>\n",
       "      <th>Kenya</th>\n",
       "      <td>4547</td>\n",
       "      <td>1521</td>\n",
       "    </tr>\n",
       "    <tr>\n",
       "      <th>Rwanda</th>\n",
       "      <td>7732</td>\n",
       "      <td>1003</td>\n",
       "    </tr>\n",
       "    <tr>\n",
       "      <th>Tanzania</th>\n",
       "      <td>6013</td>\n",
       "      <td>607</td>\n",
       "    </tr>\n",
       "    <tr>\n",
       "      <th>Uganda</th>\n",
       "      <td>1920</td>\n",
       "      <td>181</td>\n",
       "    </tr>\n",
       "  </tbody>\n",
       "</table>\n",
       "</div>"
      ],
      "text/plain": [
       "bank_account    No   Yes\n",
       "country                 \n",
       "Kenya         4547  1521\n",
       "Rwanda        7732  1003\n",
       "Tanzania      6013   607\n",
       "Uganda        1920   181"
      ]
     },
     "execution_count": 22,
     "metadata": {},
     "output_type": "execute_result"
    }
   ],
   "source": [
    "# Create a dataframe with the counts by job titel und bank account\n",
    "counts_df = df.groupby([\"country\", \"bank_account\"])[\"country\"].count().unstack()\n",
    "counts_df"
   ]
  },
  {
   "cell_type": "code",
   "execution_count": 23,
   "metadata": {},
   "outputs": [
    {
     "data": {
      "text/html": [
       "<div>\n",
       "<style scoped>\n",
       "    .dataframe tbody tr th:only-of-type {\n",
       "        vertical-align: middle;\n",
       "    }\n",
       "\n",
       "    .dataframe tbody tr th {\n",
       "        vertical-align: top;\n",
       "    }\n",
       "\n",
       "    .dataframe thead th {\n",
       "        text-align: right;\n",
       "    }\n",
       "</style>\n",
       "<table border=\"1\" class=\"dataframe\">\n",
       "  <thead>\n",
       "    <tr style=\"text-align: right;\">\n",
       "      <th>bank_account</th>\n",
       "      <th>No</th>\n",
       "      <th>Yes</th>\n",
       "    </tr>\n",
       "    <tr>\n",
       "      <th>country</th>\n",
       "      <th></th>\n",
       "      <th></th>\n",
       "    </tr>\n",
       "  </thead>\n",
       "  <tbody>\n",
       "    <tr>\n",
       "      <th>Kenya</th>\n",
       "      <td>0.749341</td>\n",
       "      <td>0.250659</td>\n",
       "    </tr>\n",
       "    <tr>\n",
       "      <th>Rwanda</th>\n",
       "      <td>0.885175</td>\n",
       "      <td>0.114825</td>\n",
       "    </tr>\n",
       "    <tr>\n",
       "      <th>Tanzania</th>\n",
       "      <td>0.908308</td>\n",
       "      <td>0.091692</td>\n",
       "    </tr>\n",
       "    <tr>\n",
       "      <th>Uganda</th>\n",
       "      <td>0.913851</td>\n",
       "      <td>0.086149</td>\n",
       "    </tr>\n",
       "  </tbody>\n",
       "</table>\n",
       "</div>"
      ],
      "text/plain": [
       "bank_account        No       Yes\n",
       "country                         \n",
       "Kenya         0.749341  0.250659\n",
       "Rwanda        0.885175  0.114825\n",
       "Tanzania      0.908308  0.091692\n",
       "Uganda        0.913851  0.086149"
      ]
     },
     "execution_count": 23,
     "metadata": {},
     "output_type": "execute_result"
    }
   ],
   "source": [
    "country_percents_df = counts_df.div(counts_df.sum()).T\n",
    "# Use the same counts df\n",
    "user_percents_df = counts_df.T.div(counts_df.T.sum()).T\n",
    "user_percents_df"
   ]
  },
  {
   "cell_type": "code",
   "execution_count": 24,
   "metadata": {},
   "outputs": [
    {
     "data": {
      "text/plain": [
       "<matplotlib.legend.Legend at 0x16c7a1fd0>"
      ]
     },
     "execution_count": 24,
     "metadata": {},
     "output_type": "execute_result"
    },
    {
     "data": {
      "image/png": "[encoded data removed]",
      "text/plain": [
       "<Figure size 360x360 with 1 Axes>"
      ]
     },
     "metadata": {
      "needs_background": "light"
     },
     "output_type": "display_data"
    }
   ],
   "source": [
    "fig, ax = plt.subplots()\n",
    "\n",
    "user_percents_df.plot(kind=\"bar\", stacked=True, color=[\"teal\", \"royalblue\"],figsize=(5,5), ax=ax)\n",
    "\n",
    "ax.set_xlabel(\"Country\")\n",
    "ax.set_xticklabels([\"Kenya\", \"Rwanda\",\t\"Tanzania\",\t\"Uganda\"], rotation=0)\n",
    "ax.set_ylabel(\"Proportion\")\n",
    "\n",
    "ax.legend(#handles=color_patches,\n",
    "    loc='center right')"
   ]
  },
  {
   "cell_type": "code",
   "execution_count": 25,
   "metadata": {},
   "outputs": [
    {
     "data": {
      "text/plain": [
       "Text(0, 0.5, 'Proportion')"
      ]
     },
     "execution_count": 25,
     "metadata": {},
     "output_type": "execute_result"
    },
    {
     "data": {
      "image/png": "[encoded data removed]",
      "text/plain": [
       "<Figure size 360x360 with 1 Axes>"
      ]
     },
     "metadata": {
      "needs_background": "light"
     },
     "output_type": "display_data"
    }
   ],
   "source": [
    "# Create a dataframe with the counts by education level und bank account\n",
    "edu_counts_df = df.groupby([\"education_level\", \"bank_account\"])[\"education_level\"].count().unstack()\n",
    "edu_percents_df = edu_counts_df.div(edu_counts_df.sum()).T\n",
    "fig, ax = plt.subplots()\n",
    "\n",
    "edu_percents_df.plot(kind=\"bar\", stacked=True, color=[\"darkslategrey\", \"yellow\", \"darkcyan\", \"aqua\", \"green\", \"coral\"],figsize=(5,5), ax=ax)\n",
    "\n",
    "\n",
    "ax.legend(bbox_to_anchor=(1.1, 1.05), title=\"Educational level\")\n",
    "ax.set_xticklabels([\"no bank account\", \"using bank account\"], rotation=0)\n",
    "ax.set_xlabel(\"\")\n",
    "ax.set_ylabel(\"Proportion\")"
   ]
  },
  {
   "cell_type": "markdown",
   "metadata": {},
   "source": [
    "## Prepare data for modelling"
   ]
  },
  {
   "cell_type": "code",
   "execution_count": 26,
   "metadata": {},
   "outputs": [
    {
     "data": {
      "text/html": [
       "<div>\n",
       "<style scoped>\n",
       "    .dataframe tbody tr th:only-of-type {\n",
       "        vertical-align: middle;\n",
       "    }\n",
       "\n",
       "    .dataframe tbody tr th {\n",
       "        vertical-align: top;\n",
       "    }\n",
       "\n",
       "    .dataframe thead th {\n",
       "        text-align: right;\n",
       "    }\n",
       "</style>\n",
       "<table border=\"1\" class=\"dataframe\">\n",
       "  <thead>\n",
       "    <tr style=\"text-align: right;\">\n",
       "      <th></th>\n",
       "      <th>country</th>\n",
       "      <th>location_type</th>\n",
       "      <th>cellphone_access</th>\n",
       "      <th>household_size</th>\n",
       "      <th>age_of_respondent</th>\n",
       "      <th>gender_of_respondent</th>\n",
       "      <th>relationship_with_head</th>\n",
       "      <th>marital_status</th>\n",
       "      <th>education_level</th>\n",
       "      <th>job_type</th>\n",
       "    </tr>\n",
       "  </thead>\n",
       "  <tbody>\n",
       "    <tr>\n",
       "      <th>0</th>\n",
       "      <td>Kenya</td>\n",
       "      <td>Rural</td>\n",
       "      <td>Yes</td>\n",
       "      <td>3</td>\n",
       "      <td>24</td>\n",
       "      <td>Female</td>\n",
       "      <td>Spouse</td>\n",
       "      <td>Married/Living together</td>\n",
       "      <td>Secondary education</td>\n",
       "      <td>Self employed</td>\n",
       "    </tr>\n",
       "    <tr>\n",
       "      <th>1</th>\n",
       "      <td>Kenya</td>\n",
       "      <td>Rural</td>\n",
       "      <td>No</td>\n",
       "      <td>5</td>\n",
       "      <td>70</td>\n",
       "      <td>Female</td>\n",
       "      <td>Head of Household</td>\n",
       "      <td>Widowed</td>\n",
       "      <td>No formal education</td>\n",
       "      <td>Government Dependent</td>\n",
       "    </tr>\n",
       "    <tr>\n",
       "      <th>2</th>\n",
       "      <td>Kenya</td>\n",
       "      <td>Urban</td>\n",
       "      <td>Yes</td>\n",
       "      <td>5</td>\n",
       "      <td>26</td>\n",
       "      <td>Male</td>\n",
       "      <td>Other relative</td>\n",
       "      <td>Single/Never Married</td>\n",
       "      <td>Vocational/Specialised training</td>\n",
       "      <td>Self employed</td>\n",
       "    </tr>\n",
       "    <tr>\n",
       "      <th>3</th>\n",
       "      <td>Kenya</td>\n",
       "      <td>Rural</td>\n",
       "      <td>Yes</td>\n",
       "      <td>5</td>\n",
       "      <td>34</td>\n",
       "      <td>Female</td>\n",
       "      <td>Head of Household</td>\n",
       "      <td>Married/Living together</td>\n",
       "      <td>Primary education</td>\n",
       "      <td>Formally employed Private</td>\n",
       "    </tr>\n",
       "    <tr>\n",
       "      <th>4</th>\n",
       "      <td>Kenya</td>\n",
       "      <td>Urban</td>\n",
       "      <td>No</td>\n",
       "      <td>8</td>\n",
       "      <td>26</td>\n",
       "      <td>Male</td>\n",
       "      <td>Child</td>\n",
       "      <td>Single/Never Married</td>\n",
       "      <td>Primary education</td>\n",
       "      <td>Informally employed</td>\n",
       "    </tr>\n",
       "  </tbody>\n",
       "</table>\n",
       "</div>"
      ],
      "text/plain": [
       "  country location_type cellphone_access  household_size  age_of_respondent  \\\n",
       "0   Kenya         Rural              Yes               3                 24   \n",
       "1   Kenya         Rural               No               5                 70   \n",
       "2   Kenya         Urban              Yes               5                 26   \n",
       "3   Kenya         Rural              Yes               5                 34   \n",
       "4   Kenya         Urban               No               8                 26   \n",
       "\n",
       "  gender_of_respondent relationship_with_head           marital_status  \\\n",
       "0               Female                 Spouse  Married/Living together   \n",
       "1               Female      Head of Household                  Widowed   \n",
       "2                 Male         Other relative     Single/Never Married   \n",
       "3               Female      Head of Household  Married/Living together   \n",
       "4                 Male                  Child     Single/Never Married   \n",
       "\n",
       "                   education_level                   job_type  \n",
       "0              Secondary education              Self employed  \n",
       "1              No formal education       Government Dependent  \n",
       "2  Vocational/Specialised training              Self employed  \n",
       "3                Primary education  Formally employed Private  \n",
       "4                Primary education        Informally employed  "
      ]
     },
     "execution_count": 26,
     "metadata": {},
     "output_type": "execute_result"
    }
   ],
   "source": [
    "# drop unused columns: year, country, uniqueid and define target (y) and features (X)\n",
    "y = df.bank_account\n",
    "X = df.drop(['bank_account','uniqueid','year'],axis=1)\n",
    "X.head()\n",
    "\n"
   ]
  },
  {
   "cell_type": "code",
   "execution_count": 27,
   "metadata": {},
   "outputs": [
    {
     "data": {
      "text/html": [
       "<div>\n",
       "<style scoped>\n",
       "    .dataframe tbody tr th:only-of-type {\n",
       "        vertical-align: middle;\n",
       "    }\n",
       "\n",
       "    .dataframe tbody tr th {\n",
       "        vertical-align: top;\n",
       "    }\n",
       "\n",
       "    .dataframe thead th {\n",
       "        text-align: right;\n",
       "    }\n",
       "</style>\n",
       "<table border=\"1\" class=\"dataframe\">\n",
       "  <thead>\n",
       "    <tr style=\"text-align: right;\">\n",
       "      <th></th>\n",
       "      <th>country</th>\n",
       "      <th>location_type</th>\n",
       "      <th>cellphone_access</th>\n",
       "      <th>household_size</th>\n",
       "      <th>age_of_respondent</th>\n",
       "      <th>gender_of_respondent</th>\n",
       "      <th>relationship_with_head</th>\n",
       "      <th>marital_status</th>\n",
       "      <th>education_level</th>\n",
       "      <th>job_type</th>\n",
       "    </tr>\n",
       "  </thead>\n",
       "  <tbody>\n",
       "    <tr>\n",
       "      <th>5037</th>\n",
       "      <td>Kenya</td>\n",
       "      <td>Urban</td>\n",
       "      <td>No</td>\n",
       "      <td>6</td>\n",
       "      <td>18</td>\n",
       "      <td>Male</td>\n",
       "      <td>Child</td>\n",
       "      <td>Single/Never Married</td>\n",
       "      <td>Primary education</td>\n",
       "      <td>Other Income</td>\n",
       "    </tr>\n",
       "    <tr>\n",
       "      <th>12649</th>\n",
       "      <td>Rwanda</td>\n",
       "      <td>Rural</td>\n",
       "      <td>No</td>\n",
       "      <td>3</td>\n",
       "      <td>59</td>\n",
       "      <td>Male</td>\n",
       "      <td>Head of Household</td>\n",
       "      <td>Married/Living together</td>\n",
       "      <td>No formal education</td>\n",
       "      <td>Farming and Fishing</td>\n",
       "    </tr>\n",
       "    <tr>\n",
       "      <th>16973</th>\n",
       "      <td>Tanzania</td>\n",
       "      <td>Urban</td>\n",
       "      <td>Yes</td>\n",
       "      <td>1</td>\n",
       "      <td>51</td>\n",
       "      <td>Male</td>\n",
       "      <td>Head of Household</td>\n",
       "      <td>Married/Living together</td>\n",
       "      <td>Primary education</td>\n",
       "      <td>Informally employed</td>\n",
       "    </tr>\n",
       "    <tr>\n",
       "      <th>14772</th>\n",
       "      <td>Rwanda</td>\n",
       "      <td>Urban</td>\n",
       "      <td>Yes</td>\n",
       "      <td>1</td>\n",
       "      <td>48</td>\n",
       "      <td>Female</td>\n",
       "      <td>Head of Household</td>\n",
       "      <td>Widowed</td>\n",
       "      <td>Primary education</td>\n",
       "      <td>Other Income</td>\n",
       "    </tr>\n",
       "    <tr>\n",
       "      <th>12533</th>\n",
       "      <td>Rwanda</td>\n",
       "      <td>Rural</td>\n",
       "      <td>Yes</td>\n",
       "      <td>9</td>\n",
       "      <td>36</td>\n",
       "      <td>Female</td>\n",
       "      <td>Spouse</td>\n",
       "      <td>Married/Living together</td>\n",
       "      <td>Primary education</td>\n",
       "      <td>Informally employed</td>\n",
       "    </tr>\n",
       "  </tbody>\n",
       "</table>\n",
       "</div>"
      ],
      "text/plain": [
       "        country location_type cellphone_access  household_size  \\\n",
       "5037      Kenya         Urban               No               6   \n",
       "12649    Rwanda         Rural               No               3   \n",
       "16973  Tanzania         Urban              Yes               1   \n",
       "14772    Rwanda         Urban              Yes               1   \n",
       "12533    Rwanda         Rural              Yes               9   \n",
       "\n",
       "       age_of_respondent gender_of_respondent relationship_with_head  \\\n",
       "5037                  18                 Male                  Child   \n",
       "12649                 59                 Male      Head of Household   \n",
       "16973                 51                 Male      Head of Household   \n",
       "14772                 48               Female      Head of Household   \n",
       "12533                 36               Female                 Spouse   \n",
       "\n",
       "                marital_status      education_level             job_type  \n",
       "5037      Single/Never Married    Primary education         Other Income  \n",
       "12649  Married/Living together  No formal education  Farming and Fishing  \n",
       "16973  Married/Living together    Primary education  Informally employed  \n",
       "14772                  Widowed    Primary education         Other Income  \n",
       "12533  Married/Living together    Primary education  Informally employed  "
      ]
     },
     "execution_count": 27,
     "metadata": {},
     "output_type": "execute_result"
    }
   ],
   "source": [
    "#split data into training and test data\n",
    "X_train, X_test, y_train, y_test = train_test_split(X, y, random_state=RSEED,stratify=y,test_size=0.3)\n",
    "X_train.head()"
   ]
  },
  {
   "cell_type": "code",
   "execution_count": 28,
   "metadata": {},
   "outputs": [
    {
     "data": {
      "text/html": [
       "<div>\n",
       "<style scoped>\n",
       "    .dataframe tbody tr th:only-of-type {\n",
       "        vertical-align: middle;\n",
       "    }\n",
       "\n",
       "    .dataframe tbody tr th {\n",
       "        vertical-align: top;\n",
       "    }\n",
       "\n",
       "    .dataframe thead th {\n",
       "        text-align: right;\n",
       "    }\n",
       "</style>\n",
       "<table border=\"1\" class=\"dataframe\">\n",
       "  <thead>\n",
       "    <tr style=\"text-align: right;\">\n",
       "      <th></th>\n",
       "      <th>country</th>\n",
       "      <th>location_type</th>\n",
       "      <th>cellphone_access</th>\n",
       "      <th>household_size</th>\n",
       "      <th>age_of_respondent</th>\n",
       "      <th>gender_of_respondent</th>\n",
       "      <th>relationship_with_head</th>\n",
       "      <th>marital_status</th>\n",
       "      <th>education_level</th>\n",
       "      <th>job_type</th>\n",
       "    </tr>\n",
       "  </thead>\n",
       "  <tbody>\n",
       "    <tr>\n",
       "      <th>5037</th>\n",
       "      <td>0</td>\n",
       "      <td>1</td>\n",
       "      <td>0</td>\n",
       "      <td>6</td>\n",
       "      <td>18</td>\n",
       "      <td>1</td>\n",
       "      <td>0</td>\n",
       "      <td>3</td>\n",
       "      <td>2</td>\n",
       "      <td>7</td>\n",
       "    </tr>\n",
       "    <tr>\n",
       "      <th>12649</th>\n",
       "      <td>1</td>\n",
       "      <td>0</td>\n",
       "      <td>0</td>\n",
       "      <td>3</td>\n",
       "      <td>59</td>\n",
       "      <td>1</td>\n",
       "      <td>1</td>\n",
       "      <td>2</td>\n",
       "      <td>0</td>\n",
       "      <td>1</td>\n",
       "    </tr>\n",
       "    <tr>\n",
       "      <th>16973</th>\n",
       "      <td>2</td>\n",
       "      <td>1</td>\n",
       "      <td>1</td>\n",
       "      <td>1</td>\n",
       "      <td>51</td>\n",
       "      <td>1</td>\n",
       "      <td>1</td>\n",
       "      <td>2</td>\n",
       "      <td>2</td>\n",
       "      <td>5</td>\n",
       "    </tr>\n",
       "    <tr>\n",
       "      <th>14772</th>\n",
       "      <td>1</td>\n",
       "      <td>1</td>\n",
       "      <td>1</td>\n",
       "      <td>1</td>\n",
       "      <td>48</td>\n",
       "      <td>0</td>\n",
       "      <td>1</td>\n",
       "      <td>4</td>\n",
       "      <td>2</td>\n",
       "      <td>7</td>\n",
       "    </tr>\n",
       "    <tr>\n",
       "      <th>12533</th>\n",
       "      <td>1</td>\n",
       "      <td>0</td>\n",
       "      <td>1</td>\n",
       "      <td>9</td>\n",
       "      <td>36</td>\n",
       "      <td>0</td>\n",
       "      <td>5</td>\n",
       "      <td>2</td>\n",
       "      <td>2</td>\n",
       "      <td>5</td>\n",
       "    </tr>\n",
       "  </tbody>\n",
       "</table>\n",
       "</div>"
      ],
      "text/plain": [
       "       country  location_type  cellphone_access  household_size  \\\n",
       "5037         0              1                 0               6   \n",
       "12649        1              0                 0               3   \n",
       "16973        2              1                 1               1   \n",
       "14772        1              1                 1               1   \n",
       "12533        1              0                 1               9   \n",
       "\n",
       "       age_of_respondent  gender_of_respondent  relationship_with_head  \\\n",
       "5037                  18                     1                       0   \n",
       "12649                 59                     1                       1   \n",
       "16973                 51                     1                       1   \n",
       "14772                 48                     0                       1   \n",
       "12533                 36                     0                       5   \n",
       "\n",
       "       marital_status  education_level  job_type  \n",
       "5037                3                2         7  \n",
       "12649               2                0         1  \n",
       "16973               2                2         5  \n",
       "14772               4                2         7  \n",
       "12533               2                2         5  "
      ]
     },
     "execution_count": 28,
     "metadata": {},
     "output_type": "execute_result"
    }
   ],
   "source": [
    "# use label encoding to transform string categories into integers\n",
    "from sklearn import preprocessing\n",
    "le = preprocessing.LabelEncoder()\n",
    "# fit transform target on train data and transform on test data\n",
    "y_train =le.fit_transform(y_train)\n",
    "y_test = le.transform(y_test)\n",
    "#list of features for encoder\n",
    "cat_predictor = list(X_train.columns)\n",
    "cat_predictor.remove(\"household_size\")\n",
    "cat_predictor.remove(\"age_of_respondent\")\n",
    "#print(cat_predictor)\n",
    "\n",
    "#label encoding of the feature columns\n",
    "for predictor in cat_predictor:\n",
    "    X_train[(predictor)] = le.fit_transform(X_train[(predictor)])\n",
    "    X_test[(predictor)] = le.transform(X_test[(predictor)])\n",
    "X_train.head()"
   ]
  },
  {
   "cell_type": "markdown",
   "metadata": {},
   "source": [
    "## Baseline model"
   ]
  },
  {
   "cell_type": "markdown",
   "metadata": {},
   "source": [
    "### Zero R baseline"
   ]
  },
  {
   "cell_type": "markdown",
   "metadata": {},
   "source": [
    "- strongly imbalanced data should use the Zero R baseline (ZeroR predicts always the majority class)"
   ]
  },
  {
   "cell_type": "code",
   "execution_count": 29,
   "metadata": {},
   "outputs": [
    {
     "name": "stdout",
     "output_type": "stream",
     "text": [
      "F1-score on test: 0.0\n",
      "Recall on test: 0.0\n",
      "Accuracy on test: 0.86\n",
      "              precision    recall  f1-score   support\n",
      "\n",
      "           0       0.86      1.00      0.92      6064\n",
      "           1       0.00      0.00      0.00       994\n",
      "\n",
      "    accuracy                           0.86      7058\n",
      "   macro avg       0.43      0.50      0.46      7058\n",
      "weighted avg       0.74      0.86      0.79      7058\n",
      "\n"
     ]
    }
   ],
   "source": [
    "#dummy classifier as baseline (Zero Rule)\n",
    "from sklearn.dummy import DummyClassifier\n",
    "dummy_clf = DummyClassifier(strategy='most_frequent') # most frequent = predicting always the majority class (ZeroR)\n",
    "dummy_clf.fit(X_train,y_train)\n",
    "y_pred = dummy_clf.predict(X_test)\n",
    "print('F1-score on test:', round(f1_score(y_test,y_pred),2))\n",
    "print('Recall on test:', round(recall_score(y_test,y_pred),2))\n",
    "print('Accuracy on test:', round(accuracy_score(y_test,y_pred),2))\n",
    "\n",
    "print(classification_report(y_test,y_pred))"
   ]
  },
  {
   "cell_type": "markdown",
   "metadata": {},
   "source": [
    "- The accuracy of the Zero R baseline is 0.86, further models must beat this score. But, as we want to predict the minority class, we will take a second baseline model as reference"
   ]
  },
  {
   "cell_type": "markdown",
   "metadata": {},
   "source": [
    "### Non algorithmic baseline"
   ]
  },
  {
   "cell_type": "code",
   "execution_count": 67,
   "metadata": {},
   "outputs": [
    {
     "name": "stdout",
     "output_type": "stream",
     "text": [
      "F1-score on test: 0.34\n",
      "Recall on test: 0.5\n",
      "Accuracy on test: 0.72\n",
      "              precision    recall  f1-score   support\n",
      "\n",
      "           0       0.90      0.76      0.83      6064\n",
      "           1       0.26      0.50      0.34       994\n",
      "\n",
      "    accuracy                           0.72      7058\n",
      "   macro avg       0.58      0.63      0.58      7058\n",
      "weighted avg       0.81      0.72      0.76      7058\n",
      "\n"
     ]
    }
   ],
   "source": [
    "#non-algorithmic baseline model\n",
    "def my_baseline(x):\n",
    "    ''' \n",
    "    this function is checking if an individual is having cellphone access and is living in urban areas\n",
    "    if True, it predicts 1 for having a bank account\n",
    "    Input: dataframe\n",
    "    Output: array of predicted values\n",
    "    '''\n",
    "    selection = (X_test['cellphone_access'] == 1) & (X_test['location_type'] == 1) \n",
    "    #print(selection)\n",
    "    y_pred = le.fit_transform(selection)\n",
    "    return y_pred   \n",
    "\n",
    "y_pred = my_baseline(X_test)\n",
    "\n",
    "print('F1-score on test:', round(f1_score(y_test,y_pred),2))\n",
    "print('Recall on test:', round(recall_score(y_test,y_pred),2))\n",
    "print('Accuracy on test:', round(accuracy_score(y_test,y_pred),2))\n",
    "print(classification_report(y_test,y_pred))"
   ]
  },
  {
   "cell_type": "markdown",
   "metadata": {},
   "source": [
    "- this baseline model is worse at predicting the majority class (no bank account) as the previous model (Zero R), but better in predicting the minority class"
   ]
  },
  {
   "cell_type": "markdown",
   "metadata": {},
   "source": [
    "## Model 1: Random Forest Classifier"
   ]
  },
  {
   "cell_type": "code",
   "execution_count": 31,
   "metadata": {},
   "outputs": [
    {
     "name": "stderr",
     "output_type": "stream",
     "text": [
      "[Parallel(n_jobs=-1)]: Using backend ThreadingBackend with 8 concurrent workers.\n",
      "[Parallel(n_jobs=-1)]: Done  34 tasks      | elapsed:    0.1s\n"
     ]
    },
    {
     "name": "stdout",
     "output_type": "stream",
     "text": [
      "F1-score on test: 0.45\n",
      "Recall on test: 0.39\n",
      "Accuracy on test: 0.87\n",
      "              precision    recall  f1-score   support\n",
      "\n",
      "           0       0.90      0.94      0.92      6064\n",
      "           1       0.53      0.39      0.45       994\n",
      "\n",
      "    accuracy                           0.87      7058\n",
      "   macro avg       0.72      0.67      0.69      7058\n",
      "weighted avg       0.85      0.87      0.86      7058\n",
      "\n"
     ]
    },
    {
     "name": "stderr",
     "output_type": "stream",
     "text": [
      "[Parallel(n_jobs=-1)]: Done 100 out of 100 | elapsed:    0.3s finished\n",
      "[Parallel(n_jobs=8)]: Using backend ThreadingBackend with 8 concurrent workers.\n",
      "[Parallel(n_jobs=8)]: Done  34 tasks      | elapsed:    0.0s\n",
      "[Parallel(n_jobs=8)]: Done 100 out of 100 | elapsed:    0.0s finished\n"
     ]
    }
   ],
   "source": [
    "from sklearn.ensemble import RandomForestClassifier\n",
    "\n",
    "# Create the model with 100 trees\n",
    "rf_clf = RandomForestClassifier(n_estimators=100, \n",
    "                               random_state=RSEED, \n",
    "                               max_features = 'sqrt',\n",
    "                               n_jobs=-1, verbose = 1)\n",
    "\n",
    "# Fit on training data\n",
    "rf_clf.fit(X_train, y_train)\n",
    "y_pred = rf_clf.predict(X_test) \n",
    "\n",
    "print('F1-score on test:', round(f1_score(y_test,y_pred),2))\n",
    "print('Recall on test:', round(recall_score(y_test,y_pred),2))\n",
    "print('Accuracy on test:', round(accuracy_score(y_test,y_pred),2))\n",
    "print(classification_report(y_test,y_pred))"
   ]
  },
  {
   "cell_type": "markdown",
   "metadata": {},
   "source": [
    "## Model 2: AdaBoost Classifier"
   ]
  },
  {
   "cell_type": "code",
   "execution_count": 32,
   "metadata": {},
   "outputs": [
    {
     "name": "stdout",
     "output_type": "stream",
     "text": [
      "F1-score on test: 0.46\n",
      "Recall on test: 0.35\n",
      "Accuracy on test: 0.88\n",
      "              precision    recall  f1-score   support\n",
      "\n",
      "           0       0.90      0.97      0.94      6064\n",
      "           1       0.67      0.35      0.46       994\n",
      "\n",
      "    accuracy                           0.88      7058\n",
      "   macro avg       0.79      0.66      0.70      7058\n",
      "weighted avg       0.87      0.88      0.87      7058\n",
      "\n"
     ]
    }
   ],
   "source": [
    "#AdaBoost\n",
    "from sklearn.ensemble import AdaBoostClassifier\n",
    "ada_clf = AdaBoostClassifier(random_state=RSEED)\n",
    "ada_clf.fit(X_train,y_train)\n",
    "y_pred = ada_clf.predict(X_test)\n",
    "\n",
    "print('F1-score on test:', round(f1_score(y_test,y_pred),2))\n",
    "print('Recall on test:', round(recall_score(y_test,y_pred),2))\n",
    "print('Accuracy on test:', round(accuracy_score(y_test,y_pred),2))\n",
    "print(classification_report(y_test,y_pred))"
   ]
  },
  {
   "cell_type": "markdown",
   "metadata": {},
   "source": [
    "## Model 3: XGBoost Classifier"
   ]
  },
  {
   "cell_type": "code",
   "execution_count": 33,
   "metadata": {},
   "outputs": [
    {
     "name": "stdout",
     "output_type": "stream",
     "text": [
      "F1-score on test: 0.49\n",
      "Recall on test: 0.39\n",
      "Accuracy on test: 0.89\n",
      "              precision    recall  f1-score   support\n",
      "\n",
      "           0       0.91      0.97      0.94      6064\n",
      "           1       0.65      0.39      0.49       994\n",
      "\n",
      "    accuracy                           0.89      7058\n",
      "   macro avg       0.78      0.68      0.71      7058\n",
      "weighted avg       0.87      0.89      0.87      7058\n",
      "\n"
     ]
    }
   ],
   "source": [
    "#XGB\n",
    "from xgboost import XGBClassifier\n",
    "xg_clf = XGBClassifier()\n",
    "xg_clf.fit(X_train,y_train)\n",
    "y_pred = xg_clf.predict(X_test)\n",
    "\n",
    "print('F1-score on test:', round(f1_score(y_test,y_pred),2))\n",
    "print('Recall on test:', round(recall_score(y_test,y_pred),2))\n",
    "print('Accuracy on test:', round(accuracy_score(y_test,y_pred),2))\n",
    "print(classification_report(y_test,y_pred))"
   ]
  },
  {
   "cell_type": "markdown",
   "metadata": {},
   "source": [
    "## Model 4: Support Vector Classifier"
   ]
  },
  {
   "cell_type": "code",
   "execution_count": 34,
   "metadata": {},
   "outputs": [
    {
     "name": "stdout",
     "output_type": "stream",
     "text": [
      "F1-score on test: 0.31\n",
      "Recall on test: 0.2\n",
      "Accuracy on test: 0.88\n",
      "              precision    recall  f1-score   support\n",
      "\n",
      "           0       0.88      0.99      0.93      6064\n",
      "           1       0.71      0.20      0.31       994\n",
      "\n",
      "    accuracy                           0.88      7058\n",
      "   macro avg       0.80      0.59      0.62      7058\n",
      "weighted avg       0.86      0.88      0.84      7058\n",
      "\n"
     ]
    }
   ],
   "source": [
    "#standard vector classifier\n",
    "from sklearn.svm import SVC\n",
    "\n",
    "svc_clf = SVC(kernel='rbf',C=1000)\n",
    "svc_clf.fit(X_train, y_train)\n",
    "y_pred = svc_clf.predict(X_test)\n",
    "\n",
    "print('F1-score on test:', round(f1_score(y_test,y_pred),2))\n",
    "print('Recall on test:', round(recall_score(y_test,y_pred),2))\n",
    "print('Accuracy on test:', round(accuracy_score(y_test,y_pred),2))\n",
    "print(classification_report(y_test,y_pred))"
   ]
  },
  {
   "cell_type": "markdown",
   "metadata": {},
   "source": [
    "## Hyperparameter Tuning for the two best performing models"
   ]
  },
  {
   "cell_type": "markdown",
   "metadata": {},
   "source": [
    "### Random Forest"
   ]
  },
  {
   "cell_type": "code",
   "execution_count": 35,
   "metadata": {},
   "outputs": [
    {
     "name": "stdout",
     "output_type": "stream",
     "text": [
      "Fitting 5 folds for each of 15 candidates, totalling 75 fits\n",
      "[CV 2/5] END bootstrap=False, max_depth=13, max_features=0.6, max_leaf_nodes=36, min_samples_split=10, n_estimators=48;, score=0.298 total time=   0.8s\n",
      "[CV 1/5] END bootstrap=False, max_depth=13, max_features=0.6, max_leaf_nodes=36, min_samples_split=10, n_estimators=48;, score=0.278 total time=   0.9s\n",
      "[CV 3/5] END bootstrap=False, max_depth=13, max_features=0.6, max_leaf_nodes=36, min_samples_split=10, n_estimators=48;, score=0.259 total time=   0.9s\n",
      "[CV 4/5] END bootstrap=False, max_depth=13, max_features=0.6, max_leaf_nodes=36, min_samples_split=10, n_estimators=48;, score=0.287 total time=   0.8s\n",
      "[CV 5/5] END bootstrap=False, max_depth=13, max_features=0.6, max_leaf_nodes=36, min_samples_split=10, n_estimators=48;, score=0.302 total time=   0.9s\n",
      "[CV 3/5] END bootstrap=False, max_depth=17, max_features=0.5, max_leaf_nodes=18, min_samples_split=10, n_estimators=149;, score=0.218 total time=   2.1s\n",
      "[CV 5/5] END bootstrap=False, max_depth=17, max_features=0.5, max_leaf_nodes=18, min_samples_split=10, n_estimators=149;, score=0.259 total time=   2.1s\n",
      "[CV 4/5] END bootstrap=False, max_depth=17, max_features=0.5, max_leaf_nodes=18, min_samples_split=10, n_estimators=149;, score=0.244 total time=   2.1s\n",
      "[CV 1/5] END bootstrap=False, max_depth=17, max_features=0.5, max_leaf_nodes=18, min_samples_split=10, n_estimators=149;, score=0.263 total time=   2.1s\n",
      "[CV 2/5] END bootstrap=False, max_depth=17, max_features=0.5, max_leaf_nodes=18, min_samples_split=10, n_estimators=149;, score=0.268 total time=   2.1s\n",
      "[CV 1/5] END bootstrap=False, max_depth=17, max_features=0.6, max_leaf_nodes=46, min_samples_split=2, n_estimators=134;, score=0.304 total time=   2.6s\n",
      "[CV 3/5] END bootstrap=False, max_depth=17, max_features=0.6, max_leaf_nodes=46, min_samples_split=2, n_estimators=134;, score=0.270 total time=   2.5s\n",
      "[CV 2/5] END bootstrap=False, max_depth=17, max_features=0.6, max_leaf_nodes=46, min_samples_split=2, n_estimators=134;, score=0.300 total time=   2.6s\n",
      "[CV 4/5] END bootstrap=False, max_depth=17, max_features=0.6, max_leaf_nodes=46, min_samples_split=2, n_estimators=134;, score=0.300 total time=   2.5s\n",
      "[CV 5/5] END bootstrap=False, max_depth=17, max_features=0.6, max_leaf_nodes=46, min_samples_split=2, n_estimators=134;, score=0.308 total time=   2.6s\n",
      "[CV 1/5] END bootstrap=False, max_depth=19, max_features=0.5, max_leaf_nodes=45, min_samples_split=2, n_estimators=200;, score=0.282 total time=   3.5s\n",
      "[CV 2/5] END bootstrap=False, max_depth=19, max_features=0.5, max_leaf_nodes=45, min_samples_split=2, n_estimators=200;, score=0.283 total time=   3.6s\n",
      "[CV 3/5] END bootstrap=False, max_depth=19, max_features=0.5, max_leaf_nodes=45, min_samples_split=2, n_estimators=200;, score=0.259 total time=   3.7s\n",
      "[CV 1/5] END bootstrap=True, max_depth=14, max_features=auto, max_leaf_nodes=31, min_samples_split=2, n_estimators=157;, score=0.263 total time=   2.1s\n",
      "[CV 2/5] END bootstrap=True, max_depth=14, max_features=auto, max_leaf_nodes=31, min_samples_split=2, n_estimators=157;, score=0.242 total time=   2.1s\n",
      "[CV 3/5] END bootstrap=True, max_depth=14, max_features=auto, max_leaf_nodes=31, min_samples_split=2, n_estimators=157;, score=0.225 total time=   2.1s\n",
      "[CV 4/5] END bootstrap=True, max_depth=14, max_features=auto, max_leaf_nodes=31, min_samples_split=2, n_estimators=157;, score=0.241 total time=   1.9s\n",
      "[CV 5/5] END bootstrap=True, max_depth=14, max_features=auto, max_leaf_nodes=31, min_samples_split=2, n_estimators=157;, score=0.259 total time=   1.9s\n",
      "[CV 4/5] END bootstrap=False, max_depth=19, max_features=0.5, max_leaf_nodes=45, min_samples_split=2, n_estimators=200;, score=0.282 total time=   4.0s\n",
      "[CV 1/5] END bootstrap=True, max_depth=10, max_features=sqrt, max_leaf_nodes=17, min_samples_split=2, n_estimators=172;, score=0.228 total time=   1.8s\n",
      "[CV 2/5] END bootstrap=True, max_depth=10, max_features=sqrt, max_leaf_nodes=17, min_samples_split=2, n_estimators=172;, score=0.218 total time=   1.8s\n",
      "[CV 3/5] END bootstrap=True, max_depth=10, max_features=sqrt, max_leaf_nodes=17, min_samples_split=2, n_estimators=172;, score=0.201 total time=   1.9s\n",
      "[CV 4/5] END bootstrap=True, max_depth=10, max_features=sqrt, max_leaf_nodes=17, min_samples_split=2, n_estimators=172;, score=0.220 total time=   1.9s\n",
      "[CV 5/5] END bootstrap=False, max_depth=19, max_features=0.5, max_leaf_nodes=45, min_samples_split=2, n_estimators=200;, score=0.310 total time=   4.4s\n",
      "[CV 5/5] END bootstrap=True, max_depth=10, max_features=sqrt, max_leaf_nodes=17, min_samples_split=2, n_estimators=172;, score=0.224 total time=   1.8s\n",
      "[CV 1/5] END bootstrap=False, max_depth=5, max_features=0.6, max_leaf_nodes=19, min_samples_split=10, n_estimators=91;, score=0.233 total time=   1.7s\n",
      "[CV 2/5] END bootstrap=False, max_depth=5, max_features=0.6, max_leaf_nodes=19, min_samples_split=10, n_estimators=91;, score=0.212 total time=   1.8s\n",
      "[CV 3/5] END bootstrap=False, max_depth=5, max_features=0.6, max_leaf_nodes=19, min_samples_split=10, n_estimators=91;, score=0.203 total time=   1.8s\n",
      "[CV 4/5] END bootstrap=False, max_depth=5, max_features=0.6, max_leaf_nodes=19, min_samples_split=10, n_estimators=91;, score=0.222 total time=   1.6s\n",
      "[CV 5/5] END bootstrap=False, max_depth=5, max_features=0.6, max_leaf_nodes=19, min_samples_split=10, n_estimators=91;, score=0.224 total time=   1.7s\n",
      "[CV 1/5] END bootstrap=True, max_depth=17, max_features=0.5, max_leaf_nodes=40, min_samples_split=10, n_estimators=126;, score=0.287 total time=   1.8s\n",
      "[CV 1/5] END bootstrap=False, max_depth=12, max_features=auto, max_leaf_nodes=33, min_samples_split=5, n_estimators=79;, score=0.250 total time=   1.0s\n",
      "[CV 2/5] END bootstrap=True, max_depth=17, max_features=0.5, max_leaf_nodes=40, min_samples_split=10, n_estimators=126;, score=0.283 total time=   1.9s\n",
      "[CV 2/5] END bootstrap=False, max_depth=12, max_features=auto, max_leaf_nodes=33, min_samples_split=5, n_estimators=79;, score=0.251 total time=   1.0s\n",
      "[CV 5/5] END bootstrap=True, max_depth=17, max_features=0.5, max_leaf_nodes=40, min_samples_split=10, n_estimators=126;, score=0.293 total time=   1.8s\n",
      "[CV 4/5] END bootstrap=True, max_depth=17, max_features=0.5, max_leaf_nodes=40, min_samples_split=10, n_estimators=126;, score=0.291 total time=   1.8s\n",
      "[CV 3/5] END bootstrap=False, max_depth=12, max_features=auto, max_leaf_nodes=33, min_samples_split=5, n_estimators=79;, score=0.220 total time=   1.0s\n",
      "[CV 3/5] END bootstrap=True, max_depth=17, max_features=0.5, max_leaf_nodes=40, min_samples_split=10, n_estimators=126;, score=0.259 total time=   1.9s\n",
      "[CV 4/5] END bootstrap=False, max_depth=12, max_features=auto, max_leaf_nodes=33, min_samples_split=5, n_estimators=79;, score=0.252 total time=   0.9s\n",
      "[CV 5/5] END bootstrap=False, max_depth=12, max_features=auto, max_leaf_nodes=33, min_samples_split=5, n_estimators=79;, score=0.267 total time=   1.0s\n",
      "[CV 1/5] END bootstrap=True, max_depth=19, max_features=0.6, max_leaf_nodes=37, min_samples_split=2, n_estimators=52;, score=0.300 total time=   0.9s\n",
      "[CV 2/5] END bootstrap=True, max_depth=19, max_features=0.6, max_leaf_nodes=37, min_samples_split=2, n_estimators=52;, score=0.298 total time=   0.9s\n",
      "[CV 3/5] END bootstrap=True, max_depth=19, max_features=0.6, max_leaf_nodes=37, min_samples_split=2, n_estimators=52;, score=0.242 total time=   0.9s\n",
      "[CV 4/5] END bootstrap=True, max_depth=19, max_features=0.6, max_leaf_nodes=37, min_samples_split=2, n_estimators=52;, score=0.291 total time=   0.9s\n",
      "[CV 5/5] END bootstrap=True, max_depth=19, max_features=0.6, max_leaf_nodes=37, min_samples_split=2, n_estimators=52;, score=0.304 total time=   0.9s\n",
      "[CV 1/5] END bootstrap=True, max_depth=17, max_features=0.7, max_leaf_nodes=49, min_samples_split=10, n_estimators=196;, score=0.306 total time=   3.7s\n",
      "[CV 1/5] END bootstrap=True, max_depth=16, max_features=0.8999999999999999, max_leaf_nodes=14, min_samples_split=2, n_estimators=118;, score=0.284 total time=   2.5s\n",
      "[CV 2/5] END bootstrap=True, max_depth=17, max_features=0.7, max_leaf_nodes=49, min_samples_split=10, n_estimators=196;, score=0.309 total time=   4.0s\n",
      "[CV 5/5] END bootstrap=True, max_depth=17, max_features=0.7, max_leaf_nodes=49, min_samples_split=10, n_estimators=196;, score=0.306 total time=   4.0s\n",
      "[CV 4/5] END bootstrap=True, max_depth=17, max_features=0.7, max_leaf_nodes=49, min_samples_split=10, n_estimators=196;, score=0.304 total time=   4.1s\n",
      "[CV 3/5] END bootstrap=True, max_depth=17, max_features=0.7, max_leaf_nodes=49, min_samples_split=10, n_estimators=196;, score=0.276 total time=   4.2s\n",
      "[CV 2/5] END bootstrap=True, max_depth=16, max_features=0.8999999999999999, max_leaf_nodes=14, min_samples_split=2, n_estimators=118;, score=0.307 total time=   2.6s\n",
      "[CV 3/5] END bootstrap=True, max_depth=16, max_features=0.8999999999999999, max_leaf_nodes=14, min_samples_split=2, n_estimators=118;, score=0.259 total time=   2.8s\n",
      "[CV 1/5] END bootstrap=True, max_depth=8, max_features=auto, max_leaf_nodes=14, min_samples_split=2, n_estimators=83;, score=0.196 total time=   0.9s\n",
      "[CV 4/5] END bootstrap=True, max_depth=16, max_features=0.8999999999999999, max_leaf_nodes=14, min_samples_split=2, n_estimators=118;, score=0.295 total time=   2.7s\n",
      "[CV 1/5] END bootstrap=False, max_depth=3, max_features=0.6, max_leaf_nodes=47, min_samples_split=2, n_estimators=137;, score=0.211 total time=   2.1s\n",
      "[CV 3/5] END bootstrap=False, max_depth=3, max_features=0.6, max_leaf_nodes=47, min_samples_split=2, n_estimators=137;, score=0.175 total time=   2.1s\n",
      "[CV 4/5] END bootstrap=False, max_depth=3, max_features=0.6, max_leaf_nodes=47, min_samples_split=2, n_estimators=137;, score=0.203 total time=   2.0s\n",
      "[CV 2/5] END bootstrap=False, max_depth=3, max_features=0.6, max_leaf_nodes=47, min_samples_split=2, n_estimators=137;, score=0.207 total time=   2.1s\n",
      "[CV 5/5] END bootstrap=True, max_depth=16, max_features=0.8999999999999999, max_leaf_nodes=14, min_samples_split=2, n_estimators=118;, score=0.304 total time=   2.6s\n",
      "[CV 5/5] END bootstrap=False, max_depth=3, max_features=0.6, max_leaf_nodes=47, min_samples_split=2, n_estimators=137;, score=0.209 total time=   2.0s\n",
      "[CV 2/5] END bootstrap=True, max_depth=8, max_features=auto, max_leaf_nodes=14, min_samples_split=2, n_estimators=83;, score=0.190 total time=   1.0s\n",
      "[CV 3/5] END bootstrap=True, max_depth=8, max_features=auto, max_leaf_nodes=14, min_samples_split=2, n_estimators=83;, score=0.192 total time=   1.1s\n",
      "[CV 4/5] END bootstrap=True, max_depth=8, max_features=auto, max_leaf_nodes=14, min_samples_split=2, n_estimators=83;, score=0.211 total time=   1.1s\n",
      "[CV 5/5] END bootstrap=True, max_depth=8, max_features=auto, max_leaf_nodes=14, min_samples_split=2, n_estimators=83;, score=0.192 total time=   1.0s\n",
      "[CV 1/5] END bootstrap=True, max_depth=14, max_features=None, max_leaf_nodes=40, min_samples_split=5, n_estimators=153;, score=0.332 total time=   3.9s\n",
      "[CV 2/5] END bootstrap=True, max_depth=14, max_features=None, max_leaf_nodes=40, min_samples_split=5, n_estimators=153;, score=0.326 total time=   3.9s\n",
      "[CV 4/5] END bootstrap=True, max_depth=14, max_features=None, max_leaf_nodes=40, min_samples_split=5, n_estimators=153;, score=0.297 total time=   3.7s\n",
      "[CV 3/5] END bootstrap=True, max_depth=14, max_features=None, max_leaf_nodes=40, min_samples_split=5, n_estimators=153;, score=0.279 total time=   3.7s\n",
      "[CV 5/5] END bootstrap=True, max_depth=14, max_features=None, max_leaf_nodes=40, min_samples_split=5, n_estimators=153;, score=0.312 total time=   3.5s\n"
     ]
    },
    {
     "data": {
      "text/plain": [
       "RandomizedSearchCV(cv=5, estimator=RandomForestClassifier(random_state=42),\n",
       "                   n_iter=15, n_jobs=-1,\n",
       "                   param_distributions={'bootstrap': [True, False],\n",
       "                                        'max_depth': [None, 3, 3, 3, 4, 4, 4, 5,\n",
       "                                                      5, 5, 6, 6, 6, 7, 7, 7, 8,\n",
       "                                                      8, 8, 9, 9, 9, 10, 10, 10,\n",
       "                                                      11, 11, 12, 12, 12, ...],\n",
       "                                        'max_features': ['auto', 'sqrt', None,\n",
       "                                                         0.5, 0.6, 0.7,\n",
       "                                                         0.7999999999999999,\n",
       "                                                         0.8999999999999999],\n",
       "                                        'max_leaf_nodes': [None, 10, 10, 10, 10,\n",
       "                                                           10, 10, 10, 10, 10,\n",
       "                                                           10, 10, 10, 10, 11,\n",
       "                                                           11, 11, 11, 11, 11,\n",
       "                                                           11, 11, 11, 11, 11,\n",
       "                                                           11, 12, 12, 12, 12, ...],\n",
       "                                        'min_samples_split': [2, 5, 10],\n",
       "                                        'n_estimators': array([ 10,  13,  17,  21,  25,  29,  33,  37,  41,  44,  48,  52,  56,\n",
       "        60,  64,  68,  72,  75,  79,  83,  87,  91,  95,  99, 103, 106,\n",
       "       110, 114, 118, 122, 126, 130, 134, 137, 141, 145, 149, 153, 157,\n",
       "       161, 165, 168, 172, 176, 180, 184, 188, 192, 196, 200])},\n",
       "                   random_state=42, scoring='recall', verbose=5)"
      ]
     },
     "execution_count": 35,
     "metadata": {},
     "output_type": "execute_result"
    }
   ],
   "source": [
    "# Hyperparameter grid\n",
    "param_grid = {\n",
    "    'n_estimators': np.linspace(10, 200).astype(int),\n",
    "    'max_depth': [None] + list(np.linspace(3, 20).astype(int)),\n",
    "    'max_features': ['auto', 'sqrt', None] + list(np.arange(0.5, 1, 0.1)),\n",
    "    'max_leaf_nodes': [None] + list(np.linspace(10, 50, 500).astype(int)),\n",
    "    'min_samples_split': [2, 5, 10],\n",
    "    'bootstrap': [True, False]\n",
    "}\n",
    "\n",
    "# Estimator for use in random search\n",
    "estimator = RandomForestClassifier(random_state = RSEED)\n",
    "\n",
    "# Create the random search model\n",
    "rs = RandomizedSearchCV(estimator, param_grid, n_jobs = -1, \n",
    "                        scoring = 'recall', cv = 5, \n",
    "                        n_iter=15,\n",
    "                        random_state=RSEED,\n",
    "                        verbose = 5)\n",
    "\n",
    "# Fit \n",
    "rs.fit(X_train, y_train)"
   ]
  },
  {
   "cell_type": "code",
   "execution_count": 36,
   "metadata": {},
   "outputs": [
    {
     "name": "stdout",
     "output_type": "stream",
     "text": [
      "Best parameters: {'n_estimators': 153, 'min_samples_split': 5, 'max_leaf_nodes': 40, 'max_features': None, 'max_depth': 14, 'bootstrap': True}\n",
      "F1-score on test: 0.47\n",
      "Recall on test: 0.35\n",
      "Accuracy on test: 0.89\n",
      "              precision    recall  f1-score   support\n",
      "\n",
      "           0       0.90      0.98      0.94      6064\n",
      "           1       0.71      0.35      0.47       994\n",
      "\n",
      "    accuracy                           0.89      7058\n",
      "   macro avg       0.80      0.66      0.70      7058\n",
      "weighted avg       0.87      0.89      0.87      7058\n",
      "\n"
     ]
    },
    {
     "data": {
      "text/plain": [
       "<AxesSubplot:>"
      ]
     },
     "execution_count": 36,
     "metadata": {},
     "output_type": "execute_result"
    },
    {
     "data": {
      "image/png": "[encoded data removed]",
      "text/plain": [
       "<Figure size 432x288 with 2 Axes>"
      ]
     },
     "metadata": {
      "needs_background": "light"
     },
     "output_type": "display_data"
    }
   ],
   "source": [
    "# Best parameters\n",
    "print('Best parameters:', rs.best_params_)\n",
    "# Assigning the fitted \n",
    "rf_best = rs.best_estimator_\n",
    "\n",
    "# Making predictions on the test set with best parameters\n",
    "y_pred = rf_best.predict(X_test)\n",
    "\n",
    "print('F1-score on test:', round(f1_score(y_test,y_pred),2))\n",
    "print('Recall on test:', round(recall_score(y_test,y_pred),2))\n",
    "print('Accuracy on test:', round(accuracy_score(y_test,y_pred),2))\n",
    "print(classification_report(y_test,y_pred))\n",
    "cm = confusion_matrix(y_test,y_pred,normalize='true')\n",
    "sns.heatmap(cm, annot=True)"
   ]
  },
  {
   "cell_type": "markdown",
   "metadata": {},
   "source": [
    "### XGBooster"
   ]
  },
  {
   "cell_type": "code",
   "execution_count": 37,
   "metadata": {},
   "outputs": [
    {
     "name": "stdout",
     "output_type": "stream",
     "text": [
      "Fitting 5 folds for each of 15 candidates, totalling 75 fits\n",
      "[CV 1/5] END colsample_bytree=0.8, gamma=1, learning_rate=0.3, max_depth=6, min_child_weight=2, subsample=0.8;, score=0.369 total time=   1.9s\n",
      "[CV 2/5] END colsample_bytree=0.8, gamma=1, learning_rate=0.3, max_depth=6, min_child_weight=2, subsample=0.8;, score=0.404 total time=   1.9s\n",
      "[CV 3/5] END colsample_bytree=0.8, gamma=1, learning_rate=0.3, max_depth=6, min_child_weight=2, subsample=0.8;, score=0.337 total time=   2.0s\n",
      "[CV 4/5] END colsample_bytree=1.0, gamma=1, learning_rate=0.3, max_depth=6, min_child_weight=1, subsample=0.6;, score=0.384 total time=   2.4s\n",
      "[CV 2/5] END colsample_bytree=1.0, gamma=1, learning_rate=0.3, max_depth=6, min_child_weight=1, subsample=0.6;, score=0.404 total time=   2.4s\n",
      "[CV 5/5] END colsample_bytree=1.0, gamma=1, learning_rate=0.3, max_depth=6, min_child_weight=1, subsample=0.6;, score=0.377 total time=   2.4s\n",
      "[CV 1/5] END colsample_bytree=1.0, gamma=1, learning_rate=0.3, max_depth=6, min_child_weight=1, subsample=0.6;, score=0.371 total time=   2.5s\n",
      "[CV 3/5] END colsample_bytree=1.0, gamma=1, learning_rate=0.3, max_depth=6, min_child_weight=1, subsample=0.6;, score=0.333 total time=   2.5s\n",
      "[CV 5/5] END colsample_bytree=0.8, gamma=1, learning_rate=0.3, max_depth=6, min_child_weight=2, subsample=0.8;, score=0.362 total time=   2.0s\n",
      "[CV 4/5] END colsample_bytree=0.8, gamma=1, learning_rate=0.3, max_depth=6, min_child_weight=2, subsample=0.8;, score=0.394 total time=   2.1s\n",
      "[CV 1/5] END colsample_bytree=1.0, gamma=1, learning_rate=0.3, max_depth=8, min_child_weight=2, subsample=1.0;, score=0.371 total time=   2.6s\n",
      "[CV 2/5] END colsample_bytree=1.0, gamma=1, learning_rate=0.3, max_depth=8, min_child_weight=2, subsample=1.0;, score=0.404 total time=   2.6s\n",
      "[CV 4/5] END colsample_bytree=1.0, gamma=1, learning_rate=0.3, max_depth=8, min_child_weight=2, subsample=1.0;, score=0.371 total time=   2.6s\n",
      "[CV 3/5] END colsample_bytree=1.0, gamma=1, learning_rate=0.3, max_depth=8, min_child_weight=2, subsample=1.0;, score=0.339 total time=   2.8s\n",
      "[CV 5/5] END colsample_bytree=1.0, gamma=1, learning_rate=0.3, max_depth=8, min_child_weight=2, subsample=1.0;, score=0.360 total time=   2.8s\n",
      "[CV 1/5] END colsample_bytree=1.0, gamma=1.5, learning_rate=0.2, max_depth=8, min_child_weight=2, subsample=0.8;, score=0.362 total time=   3.3s\n",
      "[CV 1/5] END colsample_bytree=1.0, gamma=0.5, learning_rate=0.3, max_depth=5, min_child_weight=2, subsample=0.8;, score=0.360 total time=   2.2s\n",
      "[CV 2/5] END colsample_bytree=1.0, gamma=0.5, learning_rate=0.3, max_depth=5, min_child_weight=2, subsample=0.8;, score=0.404 total time=   2.3s\n",
      "[CV 2/5] END colsample_bytree=1.0, gamma=1.5, learning_rate=0.2, max_depth=8, min_child_weight=2, subsample=0.8;, score=0.402 total time=   3.7s\n",
      "[CV 3/5] END colsample_bytree=1.0, gamma=0.5, learning_rate=0.3, max_depth=5, min_child_weight=2, subsample=0.8;, score=0.320 total time=   2.4s\n",
      "[CV 3/5] END colsample_bytree=1.0, gamma=1.5, learning_rate=0.2, max_depth=8, min_child_weight=2, subsample=0.8;, score=0.330 total time=   3.8s\n",
      "[CV 4/5] END colsample_bytree=1.0, gamma=0.5, learning_rate=0.3, max_depth=5, min_child_weight=2, subsample=0.8;, score=0.388 total time=   2.4s\n",
      "[CV 4/5] END colsample_bytree=1.0, gamma=1.5, learning_rate=0.2, max_depth=8, min_child_weight=2, subsample=0.8;, score=0.407 total time=   3.8s\n",
      "[CV 5/5] END colsample_bytree=1.0, gamma=1.5, learning_rate=0.2, max_depth=8, min_child_weight=2, subsample=0.8;, score=0.369 total time=   3.6s\n",
      "[CV 5/5] END colsample_bytree=1.0, gamma=0.5, learning_rate=0.3, max_depth=5, min_child_weight=2, subsample=0.8;, score=0.369 total time=   1.9s\n",
      "[CV 1/5] END colsample_bytree=1.0, gamma=1.5, learning_rate=0.25, max_depth=8, min_child_weight=2, subsample=0.6;, score=0.360 total time=   3.2s\n",
      "[CV 3/5] END colsample_bytree=1.0, gamma=1.5, learning_rate=0.25, max_depth=8, min_child_weight=2, subsample=0.6;, score=0.350 total time=   3.2s\n",
      "[CV 2/5] END colsample_bytree=1.0, gamma=1.5, learning_rate=0.25, max_depth=8, min_child_weight=2, subsample=0.6;, score=0.382 total time=   3.3s\n",
      "[CV 4/5] END colsample_bytree=1.0, gamma=1.5, learning_rate=0.25, max_depth=8, min_child_weight=2, subsample=0.6;, score=0.407 total time=   3.2s\n",
      "[CV 1/5] END colsample_bytree=0.8, gamma=0.5, learning_rate=0.25, max_depth=8, min_child_weight=1, subsample=0.8;, score=0.366 total time=   2.5s\n",
      "[CV 5/5] END colsample_bytree=1.0, gamma=1.5, learning_rate=0.25, max_depth=8, min_child_weight=2, subsample=0.6;, score=0.373 total time=   3.1s\n",
      "[CV 2/5] END colsample_bytree=0.8, gamma=0.5, learning_rate=0.25, max_depth=8, min_child_weight=1, subsample=0.8;, score=0.408 total time=   2.7s\n",
      "[CV 3/5] END colsample_bytree=0.8, gamma=0.5, learning_rate=0.25, max_depth=8, min_child_weight=1, subsample=0.8;, score=0.352 total time=   2.7s\n",
      "[CV 2/5] END colsample_bytree=0.8, gamma=1, learning_rate=0.2, max_depth=6, min_child_weight=2, subsample=0.6;, score=0.400 total time=   2.3s\n",
      "[CV 1/5] END colsample_bytree=0.8, gamma=1, learning_rate=0.2, max_depth=6, min_child_weight=2, subsample=0.6;, score=0.358 total time=   2.3s\n",
      "[CV 3/5] END colsample_bytree=0.8, gamma=1, learning_rate=0.2, max_depth=6, min_child_weight=2, subsample=0.6;, score=0.326 total time=   2.3s\n",
      "[CV 4/5] END colsample_bytree=0.8, gamma=1, learning_rate=0.2, max_depth=6, min_child_weight=2, subsample=0.6;, score=0.381 total time=   2.3s\n",
      "[CV 4/5] END colsample_bytree=0.8, gamma=0.5, learning_rate=0.25, max_depth=8, min_child_weight=1, subsample=0.8;, score=0.399 total time=   3.0s\n",
      "[CV 5/5] END colsample_bytree=0.8, gamma=1, learning_rate=0.2, max_depth=6, min_child_weight=2, subsample=0.6;, score=0.381 total time=   2.6s\n",
      "[CV 5/5] END colsample_bytree=0.8, gamma=0.5, learning_rate=0.25, max_depth=8, min_child_weight=1, subsample=0.8;, score=0.353 total time=   3.1s\n",
      "[CV 1/5] END colsample_bytree=0.6, gamma=1, learning_rate=0.3, max_depth=8, min_child_weight=1, subsample=1.0;, score=0.375 total time=   2.7s\n",
      "[CV 2/5] END colsample_bytree=0.6, gamma=1, learning_rate=0.3, max_depth=8, min_child_weight=1, subsample=1.0;, score=0.413 total time=   2.7s\n",
      "[CV 3/5] END colsample_bytree=0.6, gamma=1, learning_rate=0.3, max_depth=8, min_child_weight=1, subsample=1.0;, score=0.326 total time=   2.8s\n",
      "[CV 4/5] END colsample_bytree=0.6, gamma=1, learning_rate=0.3, max_depth=8, min_child_weight=1, subsample=1.0;, score=0.390 total time=   2.7s\n",
      "[CV 5/5] END colsample_bytree=0.6, gamma=1, learning_rate=0.3, max_depth=8, min_child_weight=1, subsample=1.0;, score=0.373 total time=   2.5s\n",
      "[CV 1/5] END colsample_bytree=0.8, gamma=1, learning_rate=0.2, max_depth=8, min_child_weight=1, subsample=0.8;, score=0.364 total time=   3.4s\n",
      "[CV 2/5] END colsample_bytree=0.8, gamma=1, learning_rate=0.2, max_depth=8, min_child_weight=1, subsample=0.8;, score=0.404 total time=   3.4s\n",
      "[CV 3/5] END colsample_bytree=0.8, gamma=1, learning_rate=0.2, max_depth=8, min_child_weight=1, subsample=0.8;, score=0.335 total time=   3.5s\n",
      "[CV 4/5] END colsample_bytree=0.8, gamma=1, learning_rate=0.2, max_depth=8, min_child_weight=1, subsample=0.8;, score=0.399 total time=   3.2s\n",
      "[CV 2/5] END colsample_bytree=0.6, gamma=0.5, learning_rate=0.2, max_depth=6, min_child_weight=2, subsample=0.6;, score=0.384 total time=   2.0s\n",
      "[CV 3/5] END colsample_bytree=0.6, gamma=0.5, learning_rate=0.2, max_depth=6, min_child_weight=2, subsample=0.6;, score=0.315 total time=   2.0s\n",
      "[CV 1/5] END colsample_bytree=0.6, gamma=0.5, learning_rate=0.2, max_depth=6, min_child_weight=2, subsample=0.6;, score=0.358 total time=   2.1s\n",
      "[CV 5/5] END colsample_bytree=0.8, gamma=1, learning_rate=0.2, max_depth=8, min_child_weight=1, subsample=0.8;, score=0.358 total time=   3.1s\n",
      "[CV 4/5] END colsample_bytree=0.6, gamma=0.5, learning_rate=0.2, max_depth=6, min_child_weight=2, subsample=0.6;, score=0.386 total time=   2.0s\n",
      "[CV 5/5] END colsample_bytree=0.6, gamma=0.5, learning_rate=0.2, max_depth=6, min_child_weight=2, subsample=0.6;, score=0.364 total time=   1.9s\n",
      "[CV 1/5] END colsample_bytree=0.8, gamma=0.5, learning_rate=0.2, max_depth=8, min_child_weight=1, subsample=1.0;, score=0.353 total time=   2.8s\n",
      "[CV 2/5] END colsample_bytree=0.8, gamma=0.5, learning_rate=0.2, max_depth=8, min_child_weight=1, subsample=1.0;, score=0.419 total time=   2.7s\n",
      "[CV 5/5] END colsample_bytree=0.8, gamma=0.5, learning_rate=0.2, max_depth=8, min_child_weight=1, subsample=1.0;, score=0.351 total time=   2.7s\n",
      "[CV 3/5] END colsample_bytree=0.8, gamma=0.5, learning_rate=0.2, max_depth=8, min_child_weight=1, subsample=1.0;, score=0.335 total time=   2.8s\n",
      "[CV 4/5] END colsample_bytree=0.8, gamma=0.5, learning_rate=0.2, max_depth=8, min_child_weight=1, subsample=1.0;, score=0.390 total time=   2.8s\n",
      "[CV 1/5] END colsample_bytree=1.0, gamma=0.5, learning_rate=0.2, max_depth=5, min_child_weight=1, subsample=0.8;, score=0.362 total time=   2.1s\n",
      "[CV 2/5] END colsample_bytree=1.0, gamma=1.5, learning_rate=0.3, max_depth=8, min_child_weight=1, subsample=0.6;, score=0.410 total time=   3.8s\n",
      "[CV 3/5] END colsample_bytree=1.0, gamma=1.5, learning_rate=0.3, max_depth=8, min_child_weight=1, subsample=0.6;, score=0.352 total time=   3.8s\n",
      "[CV 2/5] END colsample_bytree=1.0, gamma=0.5, learning_rate=0.2, max_depth=5, min_child_weight=1, subsample=0.8;, score=0.406 total time=   2.1s\n",
      "[CV 3/5] END colsample_bytree=1.0, gamma=0.5, learning_rate=0.2, max_depth=5, min_child_weight=1, subsample=0.8;, score=0.324 total time=   2.0s\n",
      "[CV 1/5] END colsample_bytree=1.0, gamma=1.5, learning_rate=0.3, max_depth=8, min_child_weight=1, subsample=0.6;, score=0.351 total time=   4.1s\n",
      "[CV 4/5] END colsample_bytree=1.0, gamma=1.5, learning_rate=0.3, max_depth=8, min_child_weight=1, subsample=0.6;, score=0.392 total time=   3.8s\n",
      "[CV 5/5] END colsample_bytree=1.0, gamma=1.5, learning_rate=0.3, max_depth=8, min_child_weight=1, subsample=0.6;, score=0.364 total time=   3.6s\n",
      "[CV 5/5] END colsample_bytree=1.0, gamma=0.5, learning_rate=0.2, max_depth=5, min_child_weight=1, subsample=0.8;, score=0.373 total time=   1.8s\n",
      "[CV 4/5] END colsample_bytree=1.0, gamma=0.5, learning_rate=0.2, max_depth=5, min_child_weight=1, subsample=0.8;, score=0.375 total time=   1.8s\n",
      "[CV 1/5] END colsample_bytree=1.0, gamma=1, learning_rate=0.2, max_depth=8, min_child_weight=1, subsample=0.8;, score=0.373 total time=   3.2s\n",
      "[CV 2/5] END colsample_bytree=1.0, gamma=1, learning_rate=0.2, max_depth=8, min_child_weight=1, subsample=0.8;, score=0.395 total time=   3.1s\n",
      "[CV 3/5] END colsample_bytree=1.0, gamma=1, learning_rate=0.2, max_depth=8, min_child_weight=1, subsample=0.8;, score=0.330 total time=   3.2s\n",
      "[CV 4/5] END colsample_bytree=1.0, gamma=1, learning_rate=0.2, max_depth=8, min_child_weight=1, subsample=0.8;, score=0.384 total time=   3.1s\n",
      "[CV 5/5] END colsample_bytree=1.0, gamma=1, learning_rate=0.2, max_depth=8, min_child_weight=1, subsample=0.8;, score=0.364 total time=   2.6s\n"
     ]
    }
   ],
   "source": [
    "# Defining parameter grid (as dictionary)\n",
    "param_grid = {  \"learning_rate\"    : [ 0.20, 0.25, 0.30 ] ,\n",
    "                'min_child_weight': [1, 2],\n",
    "                'gamma': [0.5, 1, 1.5],\n",
    "                'subsample': [0.6, 0.8, 1.0],\n",
    "                'colsample_bytree': [0.6, 0.8, 1.0],\n",
    "                'max_depth': [ 5, 6, 8]\n",
    "            \n",
    "             }\n",
    "\n",
    "# Instantiate gridsearch and define the metric to optimize \n",
    "rs = RandomizedSearchCV(XGBClassifier(), param_grid, scoring='recall',\n",
    "                  cv=5, verbose=5, n_jobs=-1,n_iter=15,random_state=RSEED);\n",
    "\n",
    "# Fit gridsearch object to data\n",
    "rs.fit(X_train, y_train);"
   ]
  },
  {
   "cell_type": "code",
   "execution_count": 38,
   "metadata": {},
   "outputs": [
    {
     "name": "stdout",
     "output_type": "stream",
     "text": [
      "Best parameters: {'subsample': 0.8, 'min_child_weight': 1, 'max_depth': 8, 'learning_rate': 0.25, 'gamma': 0.5, 'colsample_bytree': 0.8}\n",
      "F1-score on test: 0.48\n",
      "Recall on test: 0.4\n",
      "Accuracy on test: 0.88\n",
      "              precision    recall  f1-score   support\n",
      "\n",
      "           0       0.91      0.96      0.93      6064\n",
      "           1       0.60      0.40      0.48       994\n",
      "\n",
      "    accuracy                           0.88      7058\n",
      "   macro avg       0.76      0.68      0.71      7058\n",
      "weighted avg       0.86      0.88      0.87      7058\n",
      "\n"
     ]
    },
    {
     "data": {
      "text/plain": [
       "<AxesSubplot:>"
      ]
     },
     "execution_count": 38,
     "metadata": {},
     "output_type": "execute_result"
    },
    {
     "data": {
      "image/png": "[encoded data removed]",
      "text/plain": [
       "<Figure size 432x288 with 2 Axes>"
      ]
     },
     "metadata": {
      "needs_background": "light"
     },
     "output_type": "display_data"
    }
   ],
   "source": [
    "# Best parameters\n",
    "print('Best parameters:', rs.best_params_)\n",
    "# Assigning the fitted \n",
    "xgb_best = rs.best_estimator_\n",
    "\n",
    "# Making predictions on the test set with best parameters\n",
    "y_pred = xgb_best.predict(X_test)\n",
    "\n",
    "print('F1-score on test:', round(f1_score(y_test,y_pred),2))\n",
    "print('Recall on test:', round(recall_score(y_test,y_pred),2))\n",
    "print('Accuracy on test:', round(accuracy_score(y_test,y_pred),2))\n",
    "print(classification_report(y_test,y_pred))\n",
    "cm = confusion_matrix(y_test,y_pred,normalize='true')\n",
    "sns.heatmap(cm, annot=True)"
   ]
  },
  {
   "cell_type": "markdown",
   "metadata": {},
   "source": [
    "## Resampling\n",
    "- With strongly imbalanced data, resampling can be useful, although it might lead to overfitting. We are using a combination of the SMOTE and the Tomek algorithm to balance the target variable. "
   ]
  },
  {
   "cell_type": "code",
   "execution_count": 39,
   "metadata": {},
   "outputs": [],
   "source": [
    "from imblearn.over_sampling import SMOTE\n",
    "smote = SMOTE(sampling_strategy='minority')\n",
    "X_train_smote, y_train_smote = smote.fit_resample(X_train, y_train)"
   ]
  },
  {
   "cell_type": "code",
   "execution_count": 40,
   "metadata": {},
   "outputs": [],
   "source": [
    "from imblearn.combine import SMOTETomek\n",
    "\n",
    "smt = SMOTETomek(sampling_strategy='minority')\n",
    "X_train_smt, y_train_smt = smt.fit_resample(X_train, y_train)"
   ]
  },
  {
   "cell_type": "code",
   "execution_count": 41,
   "metadata": {},
   "outputs": [
    {
     "name": "stdout",
     "output_type": "stream",
     "text": [
      "F1-score on test: 0.49\n",
      "Recall on test: 0.69\n",
      "Accuracy on test: 0.8\n",
      "              precision    recall  f1-score   support\n",
      "\n",
      "           0       0.94      0.82      0.87      6064\n",
      "           1       0.38      0.69      0.49       994\n",
      "\n",
      "    accuracy                           0.80      7058\n",
      "   macro avg       0.66      0.75      0.68      7058\n",
      "weighted avg       0.86      0.80      0.82      7058\n",
      "\n"
     ]
    },
    {
     "data": {
      "text/plain": [
       "<AxesSubplot:>"
      ]
     },
     "execution_count": 41,
     "metadata": {},
     "output_type": "execute_result"
    },
    {
     "data": {
      "image/png": "[encoded data removed]",
      "text/plain": [
       "<Figure size 432x288 with 2 Axes>"
      ]
     },
     "metadata": {
      "needs_background": "light"
     },
     "output_type": "display_data"
    }
   ],
   "source": [
    "#SMOTETomek+XGB\n",
    "xg_clf = XGBClassifier()\n",
    "xg_clf.fit(X_train_smt ,y_train_smt)\n",
    "y_pred = xg_clf.predict(X_test)\n",
    "\n",
    "print('F1-score on test:', round(f1_score(y_test,y_pred),2))\n",
    "print('Recall on test:', round(recall_score(y_test,y_pred),2))\n",
    "print('Accuracy on test:', round(accuracy_score(y_test,y_pred),2))\n",
    "print(classification_report(y_test,y_pred))\n",
    "cm = confusion_matrix(y_test,y_pred,normalize='true')\n",
    "sns.heatmap(cm, annot=True)"
   ]
  }
 ],
 "metadata": {
  "kernelspec": {
   "display_name": "Python 3.9.8 ('.venv': venv)",
   "language": "python",
   "name": "python3"
  },
  "language_info": {
   "codemirror_mode": {
    "name": "ipython",
    "version": 3
   },
   "file_extension": ".py",
   "mimetype": "text/x-python",
   "name": "python",
   "nbconvert_exporter": "python",
   "pygments_lexer": "ipython3",
   "version": "3.9.8"
  },
  "orig_nbformat": 4,
  "vscode": {
   "interpreter": {
    "hash": "8ed031b0d68a861378d241dd8a457afd9cabeeb661ebd4df2889ef44e8b5bd41"
   }
  }
 },
 "nbformat": 4,
 "nbformat_minor": 2
}
